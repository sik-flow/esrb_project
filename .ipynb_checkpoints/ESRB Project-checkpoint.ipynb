{
 "cells": [
  {
   "cell_type": "markdown",
   "metadata": {},
   "source": [
    "# ESRB Rating Project"
   ]
  },
  {
   "cell_type": "markdown",
   "metadata": {},
   "source": [
    "## Table Of Contents\n",
    "<font size=3rem>\n",
    "    \n",
    "0 -**[ INTRO](#INTRODUCTION)<br>**\n",
    "1 -**[ OBTAIN](#OBTAIN)**<br>\n",
    "2 -**[ SCRUB](#SCRUB)**<br>\n",
    "3 -**[ EXPLORE](#EXPLORE)**<br>\n",
    "4 -**[ MODEL](#MODEL)**<br>\n",
    "5 -**[ INTERPRET](#INTERPRET)**<br>\n",
    "6 -**[ CONCLUSIONS & RECCOMENDATIONS](#Conclusions-&-Recommendations)<br>**\n",
    "</font>\n",
    "___"
   ]
  },
  {
   "cell_type": "markdown",
   "metadata": {},
   "source": [
    "# INTRODUCTION"
   ]
  },
  {
   "cell_type": "markdown",
   "metadata": {},
   "source": [
    "- Student: Cody Freese\n",
    "- Pace: Self Paced\n",
    "- Jeff Herman\n",
    "\n",
    "In this notebook we will analyze ESRB Ratings and develop a model for predicting these ratings."
   ]
  },
  {
   "cell_type": "markdown",
   "metadata": {},
   "source": [
    "## Import Tools"
   ]
  },
  {
   "cell_type": "code",
   "execution_count": 1,
   "metadata": {},
   "outputs": [
    {
     "name": "stderr",
     "output_type": "stream",
     "text": [
      "C:\\Users\\c_fre\\anaconda3\\envs\\learn-env\\lib\\site-packages\\statsmodels\\tools\\_testing.py:19: FutureWarning: pandas.util.testing is deprecated. Use the functions in the public API at pandas.testing instead.\n",
      "  import pandas.util.testing as tm\n"
     ]
    }
   ],
   "source": [
    "import pandas as pd\n",
    "import matplotlib.pyplot as plt\n",
    "import numpy as np\n",
    "import seaborn as sb\n",
    "\n",
    "import statsmodels as sm\n",
    "\n",
    "import sklearn.preprocessing as preprocessing\n",
    "from sklearn.decomposition import PCA\n",
    "\n",
    "from sklearn.ensemble import (RandomForestClassifier,GradientBoostingClassifier,\n",
    "                              BaggingClassifier,StackingClassifier,RandomForestRegressor)\n",
    "\n",
    "\n",
    "from sklearn.linear_model import LogisticRegression\n",
    "\n",
    "from sklearn.preprocessing import StandardScaler\n",
    "from sklearn.preprocessing import OneHotEncoder\n",
    "\n",
    "from sklearn.tree import DecisionTreeClassifier\n",
    "from sklearn.tree import DecisionTreeRegressor\n",
    "\n",
    "from sklearn.model_selection import train_test_split\n",
    "from scipy import stats\n",
    "\n",
    "from sklearn import tree\n",
    "\n",
    "from sklearn.metrics import accuracy_score\n",
    "from sklearn.metrics import mean_squared_error as mse\n",
    "from sklearn.metrics import r2_score\n",
    "from sklearn.metrics import classification_report, multilabel_confusion_matrix, confusion_matrix\n",
    "from sklearn.metrics import roc_auc_score, roc_curve, auc\n",
    "from sklearn.metrics import plot_confusion_matrix\n",
    "\n",
    "from sklearn.svm import SVC\n",
    "from sklearn.model_selection import GridSearchCV\n",
    "from sklearn.neighbors import NearestNeighbors, KNeighborsClassifier, KNeighborsRegressor\n",
    "\n",
    "import warnings\n",
    "warnings.filterwarnings(\"ignore\")"
   ]
  },
  {
   "cell_type": "code",
   "execution_count": 2,
   "metadata": {},
   "outputs": [],
   "source": [
    "pd.set_option('display.max_columns', None)"
   ]
  },
  {
   "cell_type": "code",
   "execution_count": 3,
   "metadata": {},
   "outputs": [],
   "source": [
    "def set_frameon(self, b):\n",
    "        self.patch.set_visible(b)\n",
    "        self.stale = True"
   ]
  },
  {
   "cell_type": "code",
   "execution_count": 4,
   "metadata": {},
   "outputs": [],
   "source": [
    "#Classification Function\n",
    "def classification(X_train, y_train,X_test,y_test, classifier):\n",
    "    y_pred = classifier.predict(X_test)\n",
    "    fig, ax = plt.subplots(figsize=(8,8))\n",
    "    plot_confusion_matrix(estimator=classifier, X=X_test, y_true=y_test, ax=ax)\n",
    "    plt.show()\n",
    "    print(classification_report(y_test, y_pred))\n",
    "    print(f'Accuracy:{round(accuracy_score(y_test,y_pred)*100, 2)}%')"
   ]
  },
  {
   "cell_type": "code",
   "execution_count": 6,
   "metadata": {},
   "outputs": [],
   "source": [
    "def plot_game_consoles(df):\n",
    "    # Combine titles into new category if they appear on both consoles.\n",
    "    value_count_dct = {}\n",
    "    for title, console in df[['title', 'console']].values:\n",
    "        if title in value_count_dct and value_count_dct[title] != console:\n",
    "            value_count_dct[title] = 'Available on Both'\n",
    "        else:\n",
    "            value_count_dct[title] = 'Xbox' if console == 1 else 'Playstation'\n",
    "    engineered_series = pd.Series(value_count_dct).value_counts()\n",
    "    fig, (ax1, ax2) = plt.subplots(ncols=2, figsize=(12,6))\n",
    "    engineered_series.plot(kind='bar', ax=ax1)\n",
    "    engineered_series.plot(kind='pie', ax=ax2)\n",
    "    # SET TITLE AND STUFF HERE\n",
    "    # ax1.set(title='', xlabel='', ylabel='')\n",
    "    # ax2.set(title='', xlabel='', ylabel='')\n",
    "    fig.tight_layout()\n",
    "    plt.show()"
   ]
  },
  {
   "cell_type": "markdown",
   "metadata": {},
   "source": [
    "# OBTAIN"
   ]
  },
  {
   "cell_type": "code",
   "execution_count": 7,
   "metadata": {
    "scrolled": false
   },
   "outputs": [
    {
     "name": "stdout",
     "output_type": "stream",
     "text": [
      "<class 'pandas.core.frame.DataFrame'>\n",
      "RangeIndex: 500 entries, 0 to 499\n",
      "Data columns (total 34 columns):\n",
      " #   Column                    Non-Null Count  Dtype \n",
      "---  ------                    --------------  ----- \n",
      " 0   title                     500 non-null    object\n",
      " 1   console                   500 non-null    int64 \n",
      " 2   alcohol_reference         500 non-null    int64 \n",
      " 3   animated_blood            500 non-null    int64 \n",
      " 4   blood                     500 non-null    int64 \n",
      " 5   blood_and_gore            500 non-null    int64 \n",
      " 6   cartoon_violence          500 non-null    int64 \n",
      " 7   crude_humor               500 non-null    int64 \n",
      " 8   drug_reference            500 non-null    int64 \n",
      " 9   fantasy_violence          500 non-null    int64 \n",
      " 10  intense_violence          500 non-null    int64 \n",
      " 11  language                  500 non-null    int64 \n",
      " 12  lyrics                    500 non-null    int64 \n",
      " 13  mature_humor              500 non-null    int64 \n",
      " 14  mild_blood                500 non-null    int64 \n",
      " 15  mild_cartoon_violence     500 non-null    int64 \n",
      " 16  mild_fantasy_violence     500 non-null    int64 \n",
      " 17  mild_language             500 non-null    int64 \n",
      " 18  mild_lyrics               500 non-null    int64 \n",
      " 19  mild_suggestive_themes    500 non-null    int64 \n",
      " 20  mild_violence             500 non-null    int64 \n",
      " 21  no_descriptors            500 non-null    int64 \n",
      " 22  nudity                    500 non-null    int64 \n",
      " 23  partial_nudity            500 non-null    int64 \n",
      " 24  sexual_content            500 non-null    int64 \n",
      " 25  sexual_themes             500 non-null    int64 \n",
      " 26  simulated_gambling        500 non-null    int64 \n",
      " 27  strong_janguage           500 non-null    int64 \n",
      " 28  strong_sexual_content     500 non-null    int64 \n",
      " 29  suggestive_themes         500 non-null    int64 \n",
      " 30  use_of_alcohol            500 non-null    int64 \n",
      " 31  use_of_drugs_and_alcohol  500 non-null    int64 \n",
      " 32  violence                  500 non-null    int64 \n",
      " 33  esrb_rating               500 non-null    object\n",
      "dtypes: int64(32), object(2)\n",
      "memory usage: 132.9+ KB\n",
      "<class 'pandas.core.frame.DataFrame'>\n",
      "RangeIndex: 1895 entries, 0 to 1894\n",
      "Data columns (total 34 columns):\n",
      " #   Column                    Non-Null Count  Dtype \n",
      "---  ------                    --------------  ----- \n",
      " 0   title                     1895 non-null   object\n",
      " 1   console                   1895 non-null   int64 \n",
      " 2   alcohol_reference         1895 non-null   int64 \n",
      " 3   animated_blood            1895 non-null   int64 \n",
      " 4   blood                     1895 non-null   int64 \n",
      " 5   blood_and_gore            1895 non-null   int64 \n",
      " 6   cartoon_violence          1895 non-null   int64 \n",
      " 7   crude_humor               1895 non-null   int64 \n",
      " 8   drug_reference            1895 non-null   int64 \n",
      " 9   fantasy_violence          1895 non-null   int64 \n",
      " 10  intense_violence          1895 non-null   int64 \n",
      " 11  language                  1895 non-null   int64 \n",
      " 12  lyrics                    1895 non-null   int64 \n",
      " 13  mature_humor              1895 non-null   int64 \n",
      " 14  mild_blood                1895 non-null   int64 \n",
      " 15  mild_cartoon_violence     1895 non-null   int64 \n",
      " 16  mild_fantasy_violence     1895 non-null   int64 \n",
      " 17  mild_language             1895 non-null   int64 \n",
      " 18  mild_lyrics               1895 non-null   int64 \n",
      " 19  mild_suggestive_themes    1895 non-null   int64 \n",
      " 20  mild_violence             1895 non-null   int64 \n",
      " 21  no_descriptors            1895 non-null   int64 \n",
      " 22  nudity                    1895 non-null   int64 \n",
      " 23  partial_nudity            1895 non-null   int64 \n",
      " 24  sexual_content            1895 non-null   int64 \n",
      " 25  sexual_themes             1895 non-null   int64 \n",
      " 26  simulated_gambling        1895 non-null   int64 \n",
      " 27  strong_janguage           1895 non-null   int64 \n",
      " 28  strong_sexual_content     1895 non-null   int64 \n",
      " 29  suggestive_themes         1895 non-null   int64 \n",
      " 30  use_of_alcohol            1895 non-null   int64 \n",
      " 31  use_of_drugs_and_alcohol  1895 non-null   int64 \n",
      " 32  violence                  1895 non-null   int64 \n",
      " 33  esrb_rating               1895 non-null   object\n",
      "dtypes: int64(32), object(2)\n",
      "memory usage: 503.5+ KB\n"
     ]
    }
   ],
   "source": [
    "# Import/Read\n",
    "test_df = pd.read_csv('test_esrb.csv')\n",
    "test_df.info()\n",
    "\n",
    "train_df = pd.read_csv('Video_games_esrb_rating.csv')\n",
    "train_df.info()"
   ]
  },
  {
   "cell_type": "code",
   "execution_count": 8,
   "metadata": {
    "scrolled": false
   },
   "outputs": [
    {
     "name": "stdout",
     "output_type": "stream",
     "text": [
      "<class 'pandas.core.frame.DataFrame'>\n",
      "Int64Index: 2395 entries, 0 to 1894\n",
      "Data columns (total 34 columns):\n",
      " #   Column                    Non-Null Count  Dtype \n",
      "---  ------                    --------------  ----- \n",
      " 0   title                     2395 non-null   object\n",
      " 1   console                   2395 non-null   int64 \n",
      " 2   alcohol_reference         2395 non-null   int64 \n",
      " 3   animated_blood            2395 non-null   int64 \n",
      " 4   blood                     2395 non-null   int64 \n",
      " 5   blood_and_gore            2395 non-null   int64 \n",
      " 6   cartoon_violence          2395 non-null   int64 \n",
      " 7   crude_humor               2395 non-null   int64 \n",
      " 8   drug_reference            2395 non-null   int64 \n",
      " 9   fantasy_violence          2395 non-null   int64 \n",
      " 10  intense_violence          2395 non-null   int64 \n",
      " 11  language                  2395 non-null   int64 \n",
      " 12  lyrics                    2395 non-null   int64 \n",
      " 13  mature_humor              2395 non-null   int64 \n",
      " 14  mild_blood                2395 non-null   int64 \n",
      " 15  mild_cartoon_violence     2395 non-null   int64 \n",
      " 16  mild_fantasy_violence     2395 non-null   int64 \n",
      " 17  mild_language             2395 non-null   int64 \n",
      " 18  mild_lyrics               2395 non-null   int64 \n",
      " 19  mild_suggestive_themes    2395 non-null   int64 \n",
      " 20  mild_violence             2395 non-null   int64 \n",
      " 21  no_descriptors            2395 non-null   int64 \n",
      " 22  nudity                    2395 non-null   int64 \n",
      " 23  partial_nudity            2395 non-null   int64 \n",
      " 24  sexual_content            2395 non-null   int64 \n",
      " 25  sexual_themes             2395 non-null   int64 \n",
      " 26  simulated_gambling        2395 non-null   int64 \n",
      " 27  strong_janguage           2395 non-null   int64 \n",
      " 28  strong_sexual_content     2395 non-null   int64 \n",
      " 29  suggestive_themes         2395 non-null   int64 \n",
      " 30  use_of_alcohol            2395 non-null   int64 \n",
      " 31  use_of_drugs_and_alcohol  2395 non-null   int64 \n",
      " 32  violence                  2395 non-null   int64 \n",
      " 33  esrb_rating               2395 non-null   object\n",
      "dtypes: int64(32), object(2)\n",
      "memory usage: 654.9+ KB\n"
     ]
    }
   ],
   "source": [
    "#Combine the Train/Test CSVs into one\n",
    "combined_csv = test_df.append(train_df)\n",
    "combined_csv.info()"
   ]
  },
  {
   "cell_type": "markdown",
   "metadata": {},
   "source": [
    "# SCRUB"
   ]
  },
  {
   "cell_type": "markdown",
   "metadata": {},
   "source": [
    "- Datatypes appear correct"
   ]
  },
  {
   "cell_type": "markdown",
   "metadata": {},
   "source": [
    "## Pivot Table, Describe & Counts"
   ]
  },
  {
   "cell_type": "code",
   "execution_count": 9,
   "metadata": {
    "scrolled": true
   },
   "outputs": [
    {
     "data": {
      "text/html": [
       "<div>\n",
       "<style scoped>\n",
       "    .dataframe tbody tr th:only-of-type {\n",
       "        vertical-align: middle;\n",
       "    }\n",
       "\n",
       "    .dataframe tbody tr th {\n",
       "        vertical-align: top;\n",
       "    }\n",
       "\n",
       "    .dataframe thead th {\n",
       "        text-align: right;\n",
       "    }\n",
       "</style>\n",
       "<table border=\"1\" class=\"dataframe\">\n",
       "  <thead>\n",
       "    <tr style=\"text-align: right;\">\n",
       "      <th></th>\n",
       "      <th></th>\n",
       "      <th>alcohol_reference</th>\n",
       "      <th>animated_blood</th>\n",
       "      <th>blood</th>\n",
       "      <th>blood_and_gore</th>\n",
       "      <th>cartoon_violence</th>\n",
       "      <th>crude_humor</th>\n",
       "      <th>drug_reference</th>\n",
       "      <th>fantasy_violence</th>\n",
       "      <th>intense_violence</th>\n",
       "      <th>language</th>\n",
       "      <th>lyrics</th>\n",
       "      <th>mature_humor</th>\n",
       "      <th>mild_blood</th>\n",
       "      <th>mild_cartoon_violence</th>\n",
       "      <th>mild_fantasy_violence</th>\n",
       "      <th>mild_language</th>\n",
       "      <th>mild_lyrics</th>\n",
       "      <th>mild_suggestive_themes</th>\n",
       "      <th>mild_violence</th>\n",
       "      <th>no_descriptors</th>\n",
       "      <th>nudity</th>\n",
       "      <th>partial_nudity</th>\n",
       "      <th>sexual_content</th>\n",
       "      <th>sexual_themes</th>\n",
       "      <th>simulated_gambling</th>\n",
       "      <th>strong_janguage</th>\n",
       "      <th>strong_sexual_content</th>\n",
       "      <th>suggestive_themes</th>\n",
       "      <th>use_of_alcohol</th>\n",
       "      <th>use_of_drugs_and_alcohol</th>\n",
       "      <th>violence</th>\n",
       "    </tr>\n",
       "    <tr>\n",
       "      <th>esrb_rating</th>\n",
       "      <th>console</th>\n",
       "      <th></th>\n",
       "      <th></th>\n",
       "      <th></th>\n",
       "      <th></th>\n",
       "      <th></th>\n",
       "      <th></th>\n",
       "      <th></th>\n",
       "      <th></th>\n",
       "      <th></th>\n",
       "      <th></th>\n",
       "      <th></th>\n",
       "      <th></th>\n",
       "      <th></th>\n",
       "      <th></th>\n",
       "      <th></th>\n",
       "      <th></th>\n",
       "      <th></th>\n",
       "      <th></th>\n",
       "      <th></th>\n",
       "      <th></th>\n",
       "      <th></th>\n",
       "      <th></th>\n",
       "      <th></th>\n",
       "      <th></th>\n",
       "      <th></th>\n",
       "      <th></th>\n",
       "      <th></th>\n",
       "      <th></th>\n",
       "      <th></th>\n",
       "      <th></th>\n",
       "      <th></th>\n",
       "    </tr>\n",
       "  </thead>\n",
       "  <tbody>\n",
       "    <tr>\n",
       "      <th rowspan=\"2\" valign=\"top\">E</th>\n",
       "      <th>0</th>\n",
       "      <td>0.035857</td>\n",
       "      <td>0.000000</td>\n",
       "      <td>0.000000</td>\n",
       "      <td>0.000000</td>\n",
       "      <td>0.000000</td>\n",
       "      <td>0.003984</td>\n",
       "      <td>0.000000</td>\n",
       "      <td>0.000000</td>\n",
       "      <td>0.000000</td>\n",
       "      <td>0.000000</td>\n",
       "      <td>0.000000</td>\n",
       "      <td>0.000000</td>\n",
       "      <td>0.000000</td>\n",
       "      <td>0.031873</td>\n",
       "      <td>0.258964</td>\n",
       "      <td>0.051793</td>\n",
       "      <td>0.051793</td>\n",
       "      <td>0.000000</td>\n",
       "      <td>0.019920</td>\n",
       "      <td>0.581673</td>\n",
       "      <td>0.000000</td>\n",
       "      <td>0.000000</td>\n",
       "      <td>0.000000</td>\n",
       "      <td>0.000000</td>\n",
       "      <td>0.000000</td>\n",
       "      <td>0.000000</td>\n",
       "      <td>0.000000</td>\n",
       "      <td>0.000000</td>\n",
       "      <td>0.000000</td>\n",
       "      <td>0.000000</td>\n",
       "      <td>0.003984</td>\n",
       "    </tr>\n",
       "    <tr>\n",
       "      <th>1</th>\n",
       "      <td>0.033962</td>\n",
       "      <td>0.000000</td>\n",
       "      <td>0.000000</td>\n",
       "      <td>0.000000</td>\n",
       "      <td>0.000000</td>\n",
       "      <td>0.007547</td>\n",
       "      <td>0.000000</td>\n",
       "      <td>0.000000</td>\n",
       "      <td>0.000000</td>\n",
       "      <td>0.000000</td>\n",
       "      <td>0.000000</td>\n",
       "      <td>0.000000</td>\n",
       "      <td>0.003774</td>\n",
       "      <td>0.056604</td>\n",
       "      <td>0.139623</td>\n",
       "      <td>0.052830</td>\n",
       "      <td>0.052830</td>\n",
       "      <td>0.000000</td>\n",
       "      <td>0.011321</td>\n",
       "      <td>0.637736</td>\n",
       "      <td>0.000000</td>\n",
       "      <td>0.000000</td>\n",
       "      <td>0.000000</td>\n",
       "      <td>0.000000</td>\n",
       "      <td>0.000000</td>\n",
       "      <td>0.000000</td>\n",
       "      <td>0.000000</td>\n",
       "      <td>0.000000</td>\n",
       "      <td>0.000000</td>\n",
       "      <td>0.003774</td>\n",
       "      <td>0.000000</td>\n",
       "    </tr>\n",
       "    <tr>\n",
       "      <th rowspan=\"2\" valign=\"top\">ET</th>\n",
       "      <th>0</th>\n",
       "      <td>0.129747</td>\n",
       "      <td>0.006329</td>\n",
       "      <td>0.000000</td>\n",
       "      <td>0.000000</td>\n",
       "      <td>0.006329</td>\n",
       "      <td>0.069620</td>\n",
       "      <td>0.012658</td>\n",
       "      <td>0.715190</td>\n",
       "      <td>0.085443</td>\n",
       "      <td>0.072785</td>\n",
       "      <td>0.022152</td>\n",
       "      <td>0.009494</td>\n",
       "      <td>0.145570</td>\n",
       "      <td>0.025316</td>\n",
       "      <td>0.022152</td>\n",
       "      <td>0.037975</td>\n",
       "      <td>0.104430</td>\n",
       "      <td>0.072785</td>\n",
       "      <td>0.069620</td>\n",
       "      <td>0.037975</td>\n",
       "      <td>0.015823</td>\n",
       "      <td>0.003165</td>\n",
       "      <td>0.000000</td>\n",
       "      <td>0.000000</td>\n",
       "      <td>0.009494</td>\n",
       "      <td>0.000000</td>\n",
       "      <td>0.006329</td>\n",
       "      <td>0.075949</td>\n",
       "      <td>0.025316</td>\n",
       "      <td>0.022152</td>\n",
       "      <td>0.006329</td>\n",
       "    </tr>\n",
       "    <tr>\n",
       "      <th>1</th>\n",
       "      <td>0.061033</td>\n",
       "      <td>0.037559</td>\n",
       "      <td>0.000000</td>\n",
       "      <td>0.000000</td>\n",
       "      <td>0.117371</td>\n",
       "      <td>0.061033</td>\n",
       "      <td>0.037559</td>\n",
       "      <td>0.582160</td>\n",
       "      <td>0.084507</td>\n",
       "      <td>0.070423</td>\n",
       "      <td>0.018779</td>\n",
       "      <td>0.004695</td>\n",
       "      <td>0.093897</td>\n",
       "      <td>0.032864</td>\n",
       "      <td>0.028169</td>\n",
       "      <td>0.014085</td>\n",
       "      <td>0.112676</td>\n",
       "      <td>0.075117</td>\n",
       "      <td>0.093897</td>\n",
       "      <td>0.023474</td>\n",
       "      <td>0.004695</td>\n",
       "      <td>0.000000</td>\n",
       "      <td>0.000000</td>\n",
       "      <td>0.000000</td>\n",
       "      <td>0.004695</td>\n",
       "      <td>0.004695</td>\n",
       "      <td>0.009390</td>\n",
       "      <td>0.042254</td>\n",
       "      <td>0.018779</td>\n",
       "      <td>0.023474</td>\n",
       "      <td>0.009390</td>\n",
       "    </tr>\n",
       "    <tr>\n",
       "      <th rowspan=\"2\" valign=\"top\">M</th>\n",
       "      <th>0</th>\n",
       "      <td>0.000000</td>\n",
       "      <td>0.000000</td>\n",
       "      <td>0.436275</td>\n",
       "      <td>0.406863</td>\n",
       "      <td>0.000000</td>\n",
       "      <td>0.029412</td>\n",
       "      <td>0.053922</td>\n",
       "      <td>0.117647</td>\n",
       "      <td>0.186275</td>\n",
       "      <td>0.161765</td>\n",
       "      <td>0.063725</td>\n",
       "      <td>0.004902</td>\n",
       "      <td>0.024510</td>\n",
       "      <td>0.004902</td>\n",
       "      <td>0.004902</td>\n",
       "      <td>0.000000</td>\n",
       "      <td>0.000000</td>\n",
       "      <td>0.000000</td>\n",
       "      <td>0.004902</td>\n",
       "      <td>0.009804</td>\n",
       "      <td>0.019608</td>\n",
       "      <td>0.068627</td>\n",
       "      <td>0.112745</td>\n",
       "      <td>0.230392</td>\n",
       "      <td>0.142157</td>\n",
       "      <td>0.500000</td>\n",
       "      <td>0.142157</td>\n",
       "      <td>0.147059</td>\n",
       "      <td>0.019608</td>\n",
       "      <td>0.004902</td>\n",
       "      <td>0.078431</td>\n",
       "    </tr>\n",
       "    <tr>\n",
       "      <th>1</th>\n",
       "      <td>0.003663</td>\n",
       "      <td>0.000000</td>\n",
       "      <td>0.388278</td>\n",
       "      <td>0.578755</td>\n",
       "      <td>0.000000</td>\n",
       "      <td>0.003663</td>\n",
       "      <td>0.069597</td>\n",
       "      <td>0.095238</td>\n",
       "      <td>0.315018</td>\n",
       "      <td>0.172161</td>\n",
       "      <td>0.069597</td>\n",
       "      <td>0.007326</td>\n",
       "      <td>0.021978</td>\n",
       "      <td>0.000000</td>\n",
       "      <td>0.003663</td>\n",
       "      <td>0.000000</td>\n",
       "      <td>0.003663</td>\n",
       "      <td>0.000000</td>\n",
       "      <td>0.000000</td>\n",
       "      <td>0.007326</td>\n",
       "      <td>0.058608</td>\n",
       "      <td>0.069597</td>\n",
       "      <td>0.073260</td>\n",
       "      <td>0.117216</td>\n",
       "      <td>0.124542</td>\n",
       "      <td>0.509158</td>\n",
       "      <td>0.205128</td>\n",
       "      <td>0.139194</td>\n",
       "      <td>0.029304</td>\n",
       "      <td>0.021978</td>\n",
       "      <td>0.157509</td>\n",
       "    </tr>\n",
       "    <tr>\n",
       "      <th rowspan=\"2\" valign=\"top\">T</th>\n",
       "      <th>0</th>\n",
       "      <td>0.039916</td>\n",
       "      <td>0.010504</td>\n",
       "      <td>0.430672</td>\n",
       "      <td>0.084034</td>\n",
       "      <td>0.010504</td>\n",
       "      <td>0.048319</td>\n",
       "      <td>0.056723</td>\n",
       "      <td>0.222689</td>\n",
       "      <td>0.132353</td>\n",
       "      <td>0.195378</td>\n",
       "      <td>0.037815</td>\n",
       "      <td>0.027311</td>\n",
       "      <td>0.105042</td>\n",
       "      <td>0.014706</td>\n",
       "      <td>0.000000</td>\n",
       "      <td>0.027311</td>\n",
       "      <td>0.107143</td>\n",
       "      <td>0.081933</td>\n",
       "      <td>0.065126</td>\n",
       "      <td>0.058824</td>\n",
       "      <td>0.018908</td>\n",
       "      <td>0.027311</td>\n",
       "      <td>0.050420</td>\n",
       "      <td>0.039916</td>\n",
       "      <td>0.048319</td>\n",
       "      <td>0.008403</td>\n",
       "      <td>0.008403</td>\n",
       "      <td>0.210084</td>\n",
       "      <td>0.054622</td>\n",
       "      <td>0.044118</td>\n",
       "      <td>0.235294</td>\n",
       "    </tr>\n",
       "    <tr>\n",
       "      <th>1</th>\n",
       "      <td>0.073048</td>\n",
       "      <td>0.012594</td>\n",
       "      <td>0.387909</td>\n",
       "      <td>0.060453</td>\n",
       "      <td>0.040302</td>\n",
       "      <td>0.138539</td>\n",
       "      <td>0.032746</td>\n",
       "      <td>0.113350</td>\n",
       "      <td>0.075567</td>\n",
       "      <td>0.148615</td>\n",
       "      <td>0.055416</td>\n",
       "      <td>0.005038</td>\n",
       "      <td>0.110831</td>\n",
       "      <td>0.012594</td>\n",
       "      <td>0.007557</td>\n",
       "      <td>0.032746</td>\n",
       "      <td>0.105793</td>\n",
       "      <td>0.065491</td>\n",
       "      <td>0.055416</td>\n",
       "      <td>0.037783</td>\n",
       "      <td>0.010076</td>\n",
       "      <td>0.017632</td>\n",
       "      <td>0.020151</td>\n",
       "      <td>0.040302</td>\n",
       "      <td>0.120907</td>\n",
       "      <td>0.010076</td>\n",
       "      <td>0.000000</td>\n",
       "      <td>0.151134</td>\n",
       "      <td>0.057935</td>\n",
       "      <td>0.035264</td>\n",
       "      <td>0.249370</td>\n",
       "    </tr>\n",
       "  </tbody>\n",
       "</table>\n",
       "</div>"
      ],
      "text/plain": [
       "                     alcohol_reference  animated_blood     blood  \\\n",
       "esrb_rating console                                                \n",
       "E           0                 0.035857        0.000000  0.000000   \n",
       "            1                 0.033962        0.000000  0.000000   \n",
       "ET          0                 0.129747        0.006329  0.000000   \n",
       "            1                 0.061033        0.037559  0.000000   \n",
       "M           0                 0.000000        0.000000  0.436275   \n",
       "            1                 0.003663        0.000000  0.388278   \n",
       "T           0                 0.039916        0.010504  0.430672   \n",
       "            1                 0.073048        0.012594  0.387909   \n",
       "\n",
       "                     blood_and_gore  cartoon_violence  crude_humor  \\\n",
       "esrb_rating console                                                  \n",
       "E           0              0.000000          0.000000     0.003984   \n",
       "            1              0.000000          0.000000     0.007547   \n",
       "ET          0              0.000000          0.006329     0.069620   \n",
       "            1              0.000000          0.117371     0.061033   \n",
       "M           0              0.406863          0.000000     0.029412   \n",
       "            1              0.578755          0.000000     0.003663   \n",
       "T           0              0.084034          0.010504     0.048319   \n",
       "            1              0.060453          0.040302     0.138539   \n",
       "\n",
       "                     drug_reference  fantasy_violence  intense_violence  \\\n",
       "esrb_rating console                                                       \n",
       "E           0              0.000000          0.000000          0.000000   \n",
       "            1              0.000000          0.000000          0.000000   \n",
       "ET          0              0.012658          0.715190          0.085443   \n",
       "            1              0.037559          0.582160          0.084507   \n",
       "M           0              0.053922          0.117647          0.186275   \n",
       "            1              0.069597          0.095238          0.315018   \n",
       "T           0              0.056723          0.222689          0.132353   \n",
       "            1              0.032746          0.113350          0.075567   \n",
       "\n",
       "                     language    lyrics  mature_humor  mild_blood  \\\n",
       "esrb_rating console                                                 \n",
       "E           0        0.000000  0.000000      0.000000    0.000000   \n",
       "            1        0.000000  0.000000      0.000000    0.003774   \n",
       "ET          0        0.072785  0.022152      0.009494    0.145570   \n",
       "            1        0.070423  0.018779      0.004695    0.093897   \n",
       "M           0        0.161765  0.063725      0.004902    0.024510   \n",
       "            1        0.172161  0.069597      0.007326    0.021978   \n",
       "T           0        0.195378  0.037815      0.027311    0.105042   \n",
       "            1        0.148615  0.055416      0.005038    0.110831   \n",
       "\n",
       "                     mild_cartoon_violence  mild_fantasy_violence  \\\n",
       "esrb_rating console                                                 \n",
       "E           0                     0.031873               0.258964   \n",
       "            1                     0.056604               0.139623   \n",
       "ET          0                     0.025316               0.022152   \n",
       "            1                     0.032864               0.028169   \n",
       "M           0                     0.004902               0.004902   \n",
       "            1                     0.000000               0.003663   \n",
       "T           0                     0.014706               0.000000   \n",
       "            1                     0.012594               0.007557   \n",
       "\n",
       "                     mild_language  mild_lyrics  mild_suggestive_themes  \\\n",
       "esrb_rating console                                                       \n",
       "E           0             0.051793     0.051793                0.000000   \n",
       "            1             0.052830     0.052830                0.000000   \n",
       "ET          0             0.037975     0.104430                0.072785   \n",
       "            1             0.014085     0.112676                0.075117   \n",
       "M           0             0.000000     0.000000                0.000000   \n",
       "            1             0.000000     0.003663                0.000000   \n",
       "T           0             0.027311     0.107143                0.081933   \n",
       "            1             0.032746     0.105793                0.065491   \n",
       "\n",
       "                     mild_violence  no_descriptors    nudity  partial_nudity  \\\n",
       "esrb_rating console                                                            \n",
       "E           0             0.019920        0.581673  0.000000        0.000000   \n",
       "            1             0.011321        0.637736  0.000000        0.000000   \n",
       "ET          0             0.069620        0.037975  0.015823        0.003165   \n",
       "            1             0.093897        0.023474  0.004695        0.000000   \n",
       "M           0             0.004902        0.009804  0.019608        0.068627   \n",
       "            1             0.000000        0.007326  0.058608        0.069597   \n",
       "T           0             0.065126        0.058824  0.018908        0.027311   \n",
       "            1             0.055416        0.037783  0.010076        0.017632   \n",
       "\n",
       "                     sexual_content  sexual_themes  simulated_gambling  \\\n",
       "esrb_rating console                                                      \n",
       "E           0              0.000000       0.000000            0.000000   \n",
       "            1              0.000000       0.000000            0.000000   \n",
       "ET          0              0.000000       0.000000            0.009494   \n",
       "            1              0.000000       0.000000            0.004695   \n",
       "M           0              0.112745       0.230392            0.142157   \n",
       "            1              0.073260       0.117216            0.124542   \n",
       "T           0              0.050420       0.039916            0.048319   \n",
       "            1              0.020151       0.040302            0.120907   \n",
       "\n",
       "                     strong_janguage  strong_sexual_content  \\\n",
       "esrb_rating console                                           \n",
       "E           0               0.000000               0.000000   \n",
       "            1               0.000000               0.000000   \n",
       "ET          0               0.000000               0.006329   \n",
       "            1               0.004695               0.009390   \n",
       "M           0               0.500000               0.142157   \n",
       "            1               0.509158               0.205128   \n",
       "T           0               0.008403               0.008403   \n",
       "            1               0.010076               0.000000   \n",
       "\n",
       "                     suggestive_themes  use_of_alcohol  \\\n",
       "esrb_rating console                                      \n",
       "E           0                 0.000000        0.000000   \n",
       "            1                 0.000000        0.000000   \n",
       "ET          0                 0.075949        0.025316   \n",
       "            1                 0.042254        0.018779   \n",
       "M           0                 0.147059        0.019608   \n",
       "            1                 0.139194        0.029304   \n",
       "T           0                 0.210084        0.054622   \n",
       "            1                 0.151134        0.057935   \n",
       "\n",
       "                     use_of_drugs_and_alcohol  violence  \n",
       "esrb_rating console                                      \n",
       "E           0                        0.000000  0.003984  \n",
       "            1                        0.003774  0.000000  \n",
       "ET          0                        0.022152  0.006329  \n",
       "            1                        0.023474  0.009390  \n",
       "M           0                        0.004902  0.078431  \n",
       "            1                        0.021978  0.157509  \n",
       "T           0                        0.044118  0.235294  \n",
       "            1                        0.035264  0.249370  "
      ]
     },
     "execution_count": 9,
     "metadata": {},
     "output_type": "execute_result"
    }
   ],
   "source": [
    "#Organized table by Rating and Console\n",
    "combined_csv.pivot_table(index=[\"esrb_rating\",\"console\"])"
   ]
  },
  {
   "cell_type": "code",
   "execution_count": 10,
   "metadata": {
    "scrolled": true
   },
   "outputs": [
    {
     "data": {
      "text/html": [
       "<div>\n",
       "<style scoped>\n",
       "    .dataframe tbody tr th:only-of-type {\n",
       "        vertical-align: middle;\n",
       "    }\n",
       "\n",
       "    .dataframe tbody tr th {\n",
       "        vertical-align: top;\n",
       "    }\n",
       "\n",
       "    .dataframe thead th {\n",
       "        text-align: right;\n",
       "    }\n",
       "</style>\n",
       "<table border=\"1\" class=\"dataframe\">\n",
       "  <thead>\n",
       "    <tr style=\"text-align: right;\">\n",
       "      <th></th>\n",
       "      <th>console</th>\n",
       "      <th>alcohol_reference</th>\n",
       "      <th>animated_blood</th>\n",
       "      <th>blood</th>\n",
       "      <th>blood_and_gore</th>\n",
       "      <th>cartoon_violence</th>\n",
       "      <th>crude_humor</th>\n",
       "      <th>drug_reference</th>\n",
       "      <th>fantasy_violence</th>\n",
       "      <th>intense_violence</th>\n",
       "      <th>language</th>\n",
       "      <th>lyrics</th>\n",
       "      <th>mature_humor</th>\n",
       "      <th>mild_blood</th>\n",
       "      <th>mild_cartoon_violence</th>\n",
       "      <th>mild_fantasy_violence</th>\n",
       "      <th>mild_language</th>\n",
       "      <th>mild_lyrics</th>\n",
       "      <th>mild_suggestive_themes</th>\n",
       "      <th>mild_violence</th>\n",
       "      <th>no_descriptors</th>\n",
       "      <th>nudity</th>\n",
       "      <th>partial_nudity</th>\n",
       "      <th>sexual_content</th>\n",
       "      <th>sexual_themes</th>\n",
       "      <th>simulated_gambling</th>\n",
       "      <th>strong_janguage</th>\n",
       "      <th>strong_sexual_content</th>\n",
       "      <th>suggestive_themes</th>\n",
       "      <th>use_of_alcohol</th>\n",
       "      <th>use_of_drugs_and_alcohol</th>\n",
       "      <th>violence</th>\n",
       "    </tr>\n",
       "  </thead>\n",
       "  <tbody>\n",
       "    <tr>\n",
       "      <th>count</th>\n",
       "      <td>2395.000000</td>\n",
       "      <td>2395.000000</td>\n",
       "      <td>2395.000000</td>\n",
       "      <td>2395.000000</td>\n",
       "      <td>2395.000000</td>\n",
       "      <td>2395.000000</td>\n",
       "      <td>2395.000000</td>\n",
       "      <td>2395.000000</td>\n",
       "      <td>2395.000000</td>\n",
       "      <td>2395.000000</td>\n",
       "      <td>2395.000000</td>\n",
       "      <td>2395.000000</td>\n",
       "      <td>2395.000000</td>\n",
       "      <td>2395.000000</td>\n",
       "      <td>2395.000000</td>\n",
       "      <td>2395.000000</td>\n",
       "      <td>2395.000000</td>\n",
       "      <td>2395.000000</td>\n",
       "      <td>2395.000000</td>\n",
       "      <td>2395.000000</td>\n",
       "      <td>2395.000000</td>\n",
       "      <td>2395.000000</td>\n",
       "      <td>2395.000000</td>\n",
       "      <td>2395.000000</td>\n",
       "      <td>2395.000000</td>\n",
       "      <td>2395.000000</td>\n",
       "      <td>2395.000000</td>\n",
       "      <td>2395.000000</td>\n",
       "      <td>2395.000000</td>\n",
       "      <td>2395.00000</td>\n",
       "      <td>2395.000000</td>\n",
       "      <td>2395.000000</td>\n",
       "    </tr>\n",
       "    <tr>\n",
       "      <th>mean</th>\n",
       "      <td>0.479332</td>\n",
       "      <td>0.050522</td>\n",
       "      <td>0.008351</td>\n",
       "      <td>0.231315</td>\n",
       "      <td>0.127349</td>\n",
       "      <td>0.020042</td>\n",
       "      <td>0.051357</td>\n",
       "      <td>0.034238</td>\n",
       "      <td>0.230063</td>\n",
       "      <td>0.109395</td>\n",
       "      <td>0.112735</td>\n",
       "      <td>0.034656</td>\n",
       "      <td>0.009186</td>\n",
       "      <td>0.071816</td>\n",
       "      <td>0.021294</td>\n",
       "      <td>0.050104</td>\n",
       "      <td>0.028392</td>\n",
       "      <td>0.074322</td>\n",
       "      <td>0.043424</td>\n",
       "      <td>0.043424</td>\n",
       "      <td>0.158246</td>\n",
       "      <td>0.016284</td>\n",
       "      <td>0.022547</td>\n",
       "      <td>0.031315</td>\n",
       "      <td>0.047599</td>\n",
       "      <td>0.057620</td>\n",
       "      <td>0.104384</td>\n",
       "      <td>0.038831</td>\n",
       "      <td>0.108977</td>\n",
       "      <td>0.03048</td>\n",
       "      <td>0.022965</td>\n",
       "      <td>0.114823</td>\n",
       "    </tr>\n",
       "    <tr>\n",
       "      <th>std</th>\n",
       "      <td>0.499677</td>\n",
       "      <td>0.219065</td>\n",
       "      <td>0.091019</td>\n",
       "      <td>0.421762</td>\n",
       "      <td>0.333433</td>\n",
       "      <td>0.140172</td>\n",
       "      <td>0.220771</td>\n",
       "      <td>0.181878</td>\n",
       "      <td>0.420961</td>\n",
       "      <td>0.312199</td>\n",
       "      <td>0.316334</td>\n",
       "      <td>0.182944</td>\n",
       "      <td>0.095421</td>\n",
       "      <td>0.258237</td>\n",
       "      <td>0.144394</td>\n",
       "      <td>0.218206</td>\n",
       "      <td>0.166126</td>\n",
       "      <td>0.262348</td>\n",
       "      <td>0.203852</td>\n",
       "      <td>0.203852</td>\n",
       "      <td>0.365048</td>\n",
       "      <td>0.126592</td>\n",
       "      <td>0.148485</td>\n",
       "      <td>0.174205</td>\n",
       "      <td>0.212961</td>\n",
       "      <td>0.233072</td>\n",
       "      <td>0.305822</td>\n",
       "      <td>0.193232</td>\n",
       "      <td>0.311675</td>\n",
       "      <td>0.17194</td>\n",
       "      <td>0.149822</td>\n",
       "      <td>0.318874</td>\n",
       "    </tr>\n",
       "    <tr>\n",
       "      <th>min</th>\n",
       "      <td>0.000000</td>\n",
       "      <td>0.000000</td>\n",
       "      <td>0.000000</td>\n",
       "      <td>0.000000</td>\n",
       "      <td>0.000000</td>\n",
       "      <td>0.000000</td>\n",
       "      <td>0.000000</td>\n",
       "      <td>0.000000</td>\n",
       "      <td>0.000000</td>\n",
       "      <td>0.000000</td>\n",
       "      <td>0.000000</td>\n",
       "      <td>0.000000</td>\n",
       "      <td>0.000000</td>\n",
       "      <td>0.000000</td>\n",
       "      <td>0.000000</td>\n",
       "      <td>0.000000</td>\n",
       "      <td>0.000000</td>\n",
       "      <td>0.000000</td>\n",
       "      <td>0.000000</td>\n",
       "      <td>0.000000</td>\n",
       "      <td>0.000000</td>\n",
       "      <td>0.000000</td>\n",
       "      <td>0.000000</td>\n",
       "      <td>0.000000</td>\n",
       "      <td>0.000000</td>\n",
       "      <td>0.000000</td>\n",
       "      <td>0.000000</td>\n",
       "      <td>0.000000</td>\n",
       "      <td>0.000000</td>\n",
       "      <td>0.00000</td>\n",
       "      <td>0.000000</td>\n",
       "      <td>0.000000</td>\n",
       "    </tr>\n",
       "    <tr>\n",
       "      <th>25%</th>\n",
       "      <td>0.000000</td>\n",
       "      <td>0.000000</td>\n",
       "      <td>0.000000</td>\n",
       "      <td>0.000000</td>\n",
       "      <td>0.000000</td>\n",
       "      <td>0.000000</td>\n",
       "      <td>0.000000</td>\n",
       "      <td>0.000000</td>\n",
       "      <td>0.000000</td>\n",
       "      <td>0.000000</td>\n",
       "      <td>0.000000</td>\n",
       "      <td>0.000000</td>\n",
       "      <td>0.000000</td>\n",
       "      <td>0.000000</td>\n",
       "      <td>0.000000</td>\n",
       "      <td>0.000000</td>\n",
       "      <td>0.000000</td>\n",
       "      <td>0.000000</td>\n",
       "      <td>0.000000</td>\n",
       "      <td>0.000000</td>\n",
       "      <td>0.000000</td>\n",
       "      <td>0.000000</td>\n",
       "      <td>0.000000</td>\n",
       "      <td>0.000000</td>\n",
       "      <td>0.000000</td>\n",
       "      <td>0.000000</td>\n",
       "      <td>0.000000</td>\n",
       "      <td>0.000000</td>\n",
       "      <td>0.000000</td>\n",
       "      <td>0.00000</td>\n",
       "      <td>0.000000</td>\n",
       "      <td>0.000000</td>\n",
       "    </tr>\n",
       "    <tr>\n",
       "      <th>50%</th>\n",
       "      <td>0.000000</td>\n",
       "      <td>0.000000</td>\n",
       "      <td>0.000000</td>\n",
       "      <td>0.000000</td>\n",
       "      <td>0.000000</td>\n",
       "      <td>0.000000</td>\n",
       "      <td>0.000000</td>\n",
       "      <td>0.000000</td>\n",
       "      <td>0.000000</td>\n",
       "      <td>0.000000</td>\n",
       "      <td>0.000000</td>\n",
       "      <td>0.000000</td>\n",
       "      <td>0.000000</td>\n",
       "      <td>0.000000</td>\n",
       "      <td>0.000000</td>\n",
       "      <td>0.000000</td>\n",
       "      <td>0.000000</td>\n",
       "      <td>0.000000</td>\n",
       "      <td>0.000000</td>\n",
       "      <td>0.000000</td>\n",
       "      <td>0.000000</td>\n",
       "      <td>0.000000</td>\n",
       "      <td>0.000000</td>\n",
       "      <td>0.000000</td>\n",
       "      <td>0.000000</td>\n",
       "      <td>0.000000</td>\n",
       "      <td>0.000000</td>\n",
       "      <td>0.000000</td>\n",
       "      <td>0.000000</td>\n",
       "      <td>0.00000</td>\n",
       "      <td>0.000000</td>\n",
       "      <td>0.000000</td>\n",
       "    </tr>\n",
       "    <tr>\n",
       "      <th>75%</th>\n",
       "      <td>1.000000</td>\n",
       "      <td>0.000000</td>\n",
       "      <td>0.000000</td>\n",
       "      <td>0.000000</td>\n",
       "      <td>0.000000</td>\n",
       "      <td>0.000000</td>\n",
       "      <td>0.000000</td>\n",
       "      <td>0.000000</td>\n",
       "      <td>0.000000</td>\n",
       "      <td>0.000000</td>\n",
       "      <td>0.000000</td>\n",
       "      <td>0.000000</td>\n",
       "      <td>0.000000</td>\n",
       "      <td>0.000000</td>\n",
       "      <td>0.000000</td>\n",
       "      <td>0.000000</td>\n",
       "      <td>0.000000</td>\n",
       "      <td>0.000000</td>\n",
       "      <td>0.000000</td>\n",
       "      <td>0.000000</td>\n",
       "      <td>0.000000</td>\n",
       "      <td>0.000000</td>\n",
       "      <td>0.000000</td>\n",
       "      <td>0.000000</td>\n",
       "      <td>0.000000</td>\n",
       "      <td>0.000000</td>\n",
       "      <td>0.000000</td>\n",
       "      <td>0.000000</td>\n",
       "      <td>0.000000</td>\n",
       "      <td>0.00000</td>\n",
       "      <td>0.000000</td>\n",
       "      <td>0.000000</td>\n",
       "    </tr>\n",
       "    <tr>\n",
       "      <th>max</th>\n",
       "      <td>1.000000</td>\n",
       "      <td>1.000000</td>\n",
       "      <td>1.000000</td>\n",
       "      <td>1.000000</td>\n",
       "      <td>1.000000</td>\n",
       "      <td>1.000000</td>\n",
       "      <td>1.000000</td>\n",
       "      <td>1.000000</td>\n",
       "      <td>1.000000</td>\n",
       "      <td>1.000000</td>\n",
       "      <td>1.000000</td>\n",
       "      <td>1.000000</td>\n",
       "      <td>1.000000</td>\n",
       "      <td>1.000000</td>\n",
       "      <td>1.000000</td>\n",
       "      <td>1.000000</td>\n",
       "      <td>1.000000</td>\n",
       "      <td>1.000000</td>\n",
       "      <td>1.000000</td>\n",
       "      <td>1.000000</td>\n",
       "      <td>1.000000</td>\n",
       "      <td>1.000000</td>\n",
       "      <td>1.000000</td>\n",
       "      <td>1.000000</td>\n",
       "      <td>1.000000</td>\n",
       "      <td>1.000000</td>\n",
       "      <td>1.000000</td>\n",
       "      <td>1.000000</td>\n",
       "      <td>1.000000</td>\n",
       "      <td>1.00000</td>\n",
       "      <td>1.000000</td>\n",
       "      <td>1.000000</td>\n",
       "    </tr>\n",
       "  </tbody>\n",
       "</table>\n",
       "</div>"
      ],
      "text/plain": [
       "           console  alcohol_reference  animated_blood        blood  \\\n",
       "count  2395.000000        2395.000000     2395.000000  2395.000000   \n",
       "mean      0.479332           0.050522        0.008351     0.231315   \n",
       "std       0.499677           0.219065        0.091019     0.421762   \n",
       "min       0.000000           0.000000        0.000000     0.000000   \n",
       "25%       0.000000           0.000000        0.000000     0.000000   \n",
       "50%       0.000000           0.000000        0.000000     0.000000   \n",
       "75%       1.000000           0.000000        0.000000     0.000000   \n",
       "max       1.000000           1.000000        1.000000     1.000000   \n",
       "\n",
       "       blood_and_gore  cartoon_violence  crude_humor  drug_reference  \\\n",
       "count     2395.000000       2395.000000  2395.000000     2395.000000   \n",
       "mean         0.127349          0.020042     0.051357        0.034238   \n",
       "std          0.333433          0.140172     0.220771        0.181878   \n",
       "min          0.000000          0.000000     0.000000        0.000000   \n",
       "25%          0.000000          0.000000     0.000000        0.000000   \n",
       "50%          0.000000          0.000000     0.000000        0.000000   \n",
       "75%          0.000000          0.000000     0.000000        0.000000   \n",
       "max          1.000000          1.000000     1.000000        1.000000   \n",
       "\n",
       "       fantasy_violence  intense_violence     language       lyrics  \\\n",
       "count       2395.000000       2395.000000  2395.000000  2395.000000   \n",
       "mean           0.230063          0.109395     0.112735     0.034656   \n",
       "std            0.420961          0.312199     0.316334     0.182944   \n",
       "min            0.000000          0.000000     0.000000     0.000000   \n",
       "25%            0.000000          0.000000     0.000000     0.000000   \n",
       "50%            0.000000          0.000000     0.000000     0.000000   \n",
       "75%            0.000000          0.000000     0.000000     0.000000   \n",
       "max            1.000000          1.000000     1.000000     1.000000   \n",
       "\n",
       "       mature_humor   mild_blood  mild_cartoon_violence  \\\n",
       "count   2395.000000  2395.000000            2395.000000   \n",
       "mean       0.009186     0.071816               0.021294   \n",
       "std        0.095421     0.258237               0.144394   \n",
       "min        0.000000     0.000000               0.000000   \n",
       "25%        0.000000     0.000000               0.000000   \n",
       "50%        0.000000     0.000000               0.000000   \n",
       "75%        0.000000     0.000000               0.000000   \n",
       "max        1.000000     1.000000               1.000000   \n",
       "\n",
       "       mild_fantasy_violence  mild_language  mild_lyrics  \\\n",
       "count            2395.000000    2395.000000  2395.000000   \n",
       "mean                0.050104       0.028392     0.074322   \n",
       "std                 0.218206       0.166126     0.262348   \n",
       "min                 0.000000       0.000000     0.000000   \n",
       "25%                 0.000000       0.000000     0.000000   \n",
       "50%                 0.000000       0.000000     0.000000   \n",
       "75%                 0.000000       0.000000     0.000000   \n",
       "max                 1.000000       1.000000     1.000000   \n",
       "\n",
       "       mild_suggestive_themes  mild_violence  no_descriptors       nudity  \\\n",
       "count             2395.000000    2395.000000     2395.000000  2395.000000   \n",
       "mean                 0.043424       0.043424        0.158246     0.016284   \n",
       "std                  0.203852       0.203852        0.365048     0.126592   \n",
       "min                  0.000000       0.000000        0.000000     0.000000   \n",
       "25%                  0.000000       0.000000        0.000000     0.000000   \n",
       "50%                  0.000000       0.000000        0.000000     0.000000   \n",
       "75%                  0.000000       0.000000        0.000000     0.000000   \n",
       "max                  1.000000       1.000000        1.000000     1.000000   \n",
       "\n",
       "       partial_nudity  sexual_content  sexual_themes  simulated_gambling  \\\n",
       "count     2395.000000     2395.000000    2395.000000         2395.000000   \n",
       "mean         0.022547        0.031315       0.047599            0.057620   \n",
       "std          0.148485        0.174205       0.212961            0.233072   \n",
       "min          0.000000        0.000000       0.000000            0.000000   \n",
       "25%          0.000000        0.000000       0.000000            0.000000   \n",
       "50%          0.000000        0.000000       0.000000            0.000000   \n",
       "75%          0.000000        0.000000       0.000000            0.000000   \n",
       "max          1.000000        1.000000       1.000000            1.000000   \n",
       "\n",
       "       strong_janguage  strong_sexual_content  suggestive_themes  \\\n",
       "count      2395.000000            2395.000000        2395.000000   \n",
       "mean          0.104384               0.038831           0.108977   \n",
       "std           0.305822               0.193232           0.311675   \n",
       "min           0.000000               0.000000           0.000000   \n",
       "25%           0.000000               0.000000           0.000000   \n",
       "50%           0.000000               0.000000           0.000000   \n",
       "75%           0.000000               0.000000           0.000000   \n",
       "max           1.000000               1.000000           1.000000   \n",
       "\n",
       "       use_of_alcohol  use_of_drugs_and_alcohol     violence  \n",
       "count      2395.00000               2395.000000  2395.000000  \n",
       "mean          0.03048                  0.022965     0.114823  \n",
       "std           0.17194                  0.149822     0.318874  \n",
       "min           0.00000                  0.000000     0.000000  \n",
       "25%           0.00000                  0.000000     0.000000  \n",
       "50%           0.00000                  0.000000     0.000000  \n",
       "75%           0.00000                  0.000000     0.000000  \n",
       "max           1.00000                  1.000000     1.000000  "
      ]
     },
     "execution_count": 10,
     "metadata": {},
     "output_type": "execute_result"
    }
   ],
   "source": [
    "#Checking values\n",
    "combined_csv.describe()"
   ]
  },
  {
   "cell_type": "code",
   "execution_count": 11,
   "metadata": {
    "scrolled": true
   },
   "outputs": [
    {
     "name": "stdout",
     "output_type": "stream",
     "text": [
      "Serial Cleaner                            2\n",
      "Human Fall Flat                           2\n",
      "The Inner World                           2\n",
      "Revenant Saga                             2\n",
      "River City Melee: Battle Royal Special    2\n",
      "                                         ..\n",
      "Sky Force Reloaded                        1\n",
      "Alteric                                   1\n",
      "Paranoia: Happiness is Mandatory          1\n",
      "A KING'S TALE FINAL FANTASY XV            1\n",
      "Just In Time Incorporated                 1\n",
      "Name: title, Length: 2332, dtype: int64\n",
      "0    1247\n",
      "1    1148\n",
      "Name: console, dtype: int64\n",
      "0    2274\n",
      "1     121\n",
      "Name: alcohol_reference, dtype: int64\n",
      "0    2375\n",
      "1      20\n",
      "Name: animated_blood, dtype: int64\n",
      "0    1841\n",
      "1     554\n",
      "Name: blood, dtype: int64\n",
      "0    2090\n",
      "1     305\n",
      "Name: blood_and_gore, dtype: int64\n",
      "0    2347\n",
      "1      48\n",
      "Name: cartoon_violence, dtype: int64\n",
      "0    2272\n",
      "1     123\n",
      "Name: crude_humor, dtype: int64\n",
      "0    2313\n",
      "1      82\n",
      "Name: drug_reference, dtype: int64\n",
      "0    1844\n",
      "1     551\n",
      "Name: fantasy_violence, dtype: int64\n",
      "0    2133\n",
      "1     262\n",
      "Name: intense_violence, dtype: int64\n",
      "0    2125\n",
      "1     270\n",
      "Name: language, dtype: int64\n",
      "0    2312\n",
      "1      83\n",
      "Name: lyrics, dtype: int64\n",
      "0    2373\n",
      "1      22\n",
      "Name: mature_humor, dtype: int64\n",
      "0    2223\n",
      "1     172\n",
      "Name: mild_blood, dtype: int64\n",
      "0    2344\n",
      "1      51\n",
      "Name: mild_cartoon_violence, dtype: int64\n",
      "0    2275\n",
      "1     120\n",
      "Name: mild_fantasy_violence, dtype: int64\n",
      "0    2327\n",
      "1      68\n",
      "Name: mild_language, dtype: int64\n",
      "0    2217\n",
      "1     178\n",
      "Name: mild_lyrics, dtype: int64\n",
      "0    2291\n",
      "1     104\n",
      "Name: mild_suggestive_themes, dtype: int64\n",
      "0    2291\n",
      "1     104\n",
      "Name: mild_violence, dtype: int64\n",
      "0    2016\n",
      "1     379\n",
      "Name: no_descriptors, dtype: int64\n",
      "0    2356\n",
      "1      39\n",
      "Name: nudity, dtype: int64\n",
      "0    2341\n",
      "1      54\n",
      "Name: partial_nudity, dtype: int64\n",
      "0    2320\n",
      "1      75\n",
      "Name: sexual_content, dtype: int64\n",
      "0    2281\n",
      "1     114\n",
      "Name: sexual_themes, dtype: int64\n",
      "0    2257\n",
      "1     138\n",
      "Name: simulated_gambling, dtype: int64\n",
      "0    2145\n",
      "1     250\n",
      "Name: strong_janguage, dtype: int64\n",
      "0    2302\n",
      "1      93\n",
      "Name: strong_sexual_content, dtype: int64\n",
      "0    2134\n",
      "1     261\n",
      "Name: suggestive_themes, dtype: int64\n",
      "0    2322\n",
      "1      73\n",
      "Name: use_of_alcohol, dtype: int64\n",
      "0    2340\n",
      "1      55\n",
      "Name: use_of_drugs_and_alcohol, dtype: int64\n",
      "0    2120\n",
      "1     275\n",
      "Name: violence, dtype: int64\n",
      "T     873\n",
      "ET    529\n",
      "E     516\n",
      "M     477\n",
      "Name: esrb_rating, dtype: int64\n"
     ]
    }
   ],
   "source": [
    "#Get a count of possible duplicate titles Yes/No\n",
    "for column in combined_csv:\n",
    "    print(combined_csv[column].value_counts())"
   ]
  },
  {
   "cell_type": "code",
   "execution_count": 12,
   "metadata": {
    "scrolled": true
   },
   "outputs": [
    {
     "data": {
      "text/plain": [
       "Index(['Serial Cleaner', 'Human Fall Flat', 'The Inner World', 'Revenant Saga',\n",
       "       'River City Melee: Battle Royal Special', 'Kero Blaster', 'Destiny 2',\n",
       "       '3D MiniGolf', 'Elite Dangerous: Legendary Edition',\n",
       "       'BLACKHOLE: Complete Edition', 'Double Dragon 4', 'Future Unfolding',\n",
       "       'Late Shift', 'RAID: WORLD WAR II', 'Kill The Bad Guy', 'Polybius',\n",
       "       'Lethal League', 'IRON CRYPTICLE',\n",
       "       'Night Trap - 25th Anniversary Edition',\n",
       "       'South Park: The Stick of Truth', 'forma.8', 'Cities: Skylines',\n",
       "       'The Long Dark', 'Mages of Mystralia', 'Children of Zodiarcs',\n",
       "       'Pillars of Eternity', '>Observer_', 'Aaero', 'Duck Game', 'Jak 3',\n",
       "       'Island Flight Simulator', 'Surf World Series', 'Jak II',\n",
       "       'Unbox - Newbie's Adventure', 'Momodora: Reverie Under the Moonlight',\n",
       "       'Super Comboman: Smash Edition', 'Narcosis', 'SHINY',\n",
       "       'Fallen Legion: Sins of an Empire', 'Still Time', 'BUTCHER',\n",
       "       'Hellblade: Senua's Sacrifice', 'Paranormal Activity: The Lost Soul',\n",
       "       'Windjammers', '2064: Read Only Memories', 'Transport Giant',\n",
       "       'Jak X: Combat Racing', 'The Girl and the Robot', 'INSIDE',\n",
       "       'The Metronomicon: Slay the Dance Floor', 'Nex Machina',\n",
       "       'Pineview Drive', 'ADK DAMASHII', 'What Remains of Edith Finch',\n",
       "       '88 Heroes', 'Crawl', 'Wonder Boy: The Dragon's Trap',\n",
       "       'Thimbleweed Park', 'ICEY', 'Joe's Diner', 'Cosmic Star Heroine',\n",
       "       'Super GunWorld 2', 'Fortnite'],\n",
       "      dtype='object')"
      ]
     },
     "execution_count": 12,
     "metadata": {},
     "output_type": "execute_result"
    }
   ],
   "source": [
    "pd.DataFrame(combined_csv[\"title\"].value_counts()[combined_csv[\"title\"].value_counts() > 1]).index\n",
    "#Duplicate Titles across platforms"
   ]
  },
  {
   "cell_type": "code",
   "execution_count": 13,
   "metadata": {},
   "outputs": [
    {
     "data": {
      "text/plain": [
       "63"
      ]
     },
     "execution_count": 13,
     "metadata": {},
     "output_type": "execute_result"
    }
   ],
   "source": [
    "len(pd.DataFrame(combined_csv[\"title\"].value_counts()[combined_csv[\"title\"].value_counts() > 1]).index)"
   ]
  },
  {
   "cell_type": "code",
   "execution_count": 14,
   "metadata": {},
   "outputs": [],
   "source": [
    "# 63 games that exist on both platforms but my function doens't catch"
   ]
  },
  {
   "cell_type": "code",
   "execution_count": 15,
   "metadata": {
    "scrolled": true
   },
   "outputs": [
    {
     "data": {
      "text/html": [
       "<div>\n",
       "<style scoped>\n",
       "    .dataframe tbody tr th:only-of-type {\n",
       "        vertical-align: middle;\n",
       "    }\n",
       "\n",
       "    .dataframe tbody tr th {\n",
       "        vertical-align: top;\n",
       "    }\n",
       "\n",
       "    .dataframe thead th {\n",
       "        text-align: right;\n",
       "    }\n",
       "</style>\n",
       "<table border=\"1\" class=\"dataframe\">\n",
       "  <thead>\n",
       "    <tr style=\"text-align: right;\">\n",
       "      <th></th>\n",
       "      <th>title</th>\n",
       "      <th>console</th>\n",
       "      <th>alcohol_reference</th>\n",
       "      <th>animated_blood</th>\n",
       "      <th>blood</th>\n",
       "      <th>blood_and_gore</th>\n",
       "      <th>cartoon_violence</th>\n",
       "      <th>crude_humor</th>\n",
       "      <th>drug_reference</th>\n",
       "      <th>fantasy_violence</th>\n",
       "      <th>intense_violence</th>\n",
       "      <th>language</th>\n",
       "      <th>lyrics</th>\n",
       "      <th>mature_humor</th>\n",
       "      <th>mild_blood</th>\n",
       "      <th>mild_cartoon_violence</th>\n",
       "      <th>mild_fantasy_violence</th>\n",
       "      <th>mild_language</th>\n",
       "      <th>mild_lyrics</th>\n",
       "      <th>mild_suggestive_themes</th>\n",
       "      <th>mild_violence</th>\n",
       "      <th>no_descriptors</th>\n",
       "      <th>nudity</th>\n",
       "      <th>partial_nudity</th>\n",
       "      <th>sexual_content</th>\n",
       "      <th>sexual_themes</th>\n",
       "      <th>simulated_gambling</th>\n",
       "      <th>strong_janguage</th>\n",
       "      <th>strong_sexual_content</th>\n",
       "      <th>suggestive_themes</th>\n",
       "      <th>use_of_alcohol</th>\n",
       "      <th>use_of_drugs_and_alcohol</th>\n",
       "      <th>violence</th>\n",
       "      <th>esrb_rating</th>\n",
       "    </tr>\n",
       "  </thead>\n",
       "  <tbody>\n",
       "    <tr>\n",
       "      <th>16</th>\n",
       "      <td>South Park: The Stick of Truth</td>\n",
       "      <td>1</td>\n",
       "      <td>0</td>\n",
       "      <td>0</td>\n",
       "      <td>0</td>\n",
       "      <td>1</td>\n",
       "      <td>0</td>\n",
       "      <td>0</td>\n",
       "      <td>0</td>\n",
       "      <td>1</td>\n",
       "      <td>0</td>\n",
       "      <td>0</td>\n",
       "      <td>0</td>\n",
       "      <td>0</td>\n",
       "      <td>1</td>\n",
       "      <td>0</td>\n",
       "      <td>0</td>\n",
       "      <td>0</td>\n",
       "      <td>0</td>\n",
       "      <td>0</td>\n",
       "      <td>0</td>\n",
       "      <td>0</td>\n",
       "      <td>1</td>\n",
       "      <td>0</td>\n",
       "      <td>0</td>\n",
       "      <td>0</td>\n",
       "      <td>0</td>\n",
       "      <td>1</td>\n",
       "      <td>1</td>\n",
       "      <td>0</td>\n",
       "      <td>0</td>\n",
       "      <td>0</td>\n",
       "      <td>0</td>\n",
       "      <td>M</td>\n",
       "    </tr>\n",
       "    <tr>\n",
       "      <th>1514</th>\n",
       "      <td>South Park: The Stick of Truth</td>\n",
       "      <td>1</td>\n",
       "      <td>0</td>\n",
       "      <td>0</td>\n",
       "      <td>0</td>\n",
       "      <td>1</td>\n",
       "      <td>0</td>\n",
       "      <td>0</td>\n",
       "      <td>1</td>\n",
       "      <td>0</td>\n",
       "      <td>0</td>\n",
       "      <td>0</td>\n",
       "      <td>0</td>\n",
       "      <td>0</td>\n",
       "      <td>1</td>\n",
       "      <td>0</td>\n",
       "      <td>0</td>\n",
       "      <td>0</td>\n",
       "      <td>0</td>\n",
       "      <td>0</td>\n",
       "      <td>0</td>\n",
       "      <td>0</td>\n",
       "      <td>0</td>\n",
       "      <td>1</td>\n",
       "      <td>0</td>\n",
       "      <td>0</td>\n",
       "      <td>0</td>\n",
       "      <td>1</td>\n",
       "      <td>0</td>\n",
       "      <td>0</td>\n",
       "      <td>0</td>\n",
       "      <td>0</td>\n",
       "      <td>0</td>\n",
       "      <td>M</td>\n",
       "    </tr>\n",
       "  </tbody>\n",
       "</table>\n",
       "</div>"
      ],
      "text/plain": [
       "                               title  console  alcohol_reference  \\\n",
       "16    South Park: The Stick of Truth        1                  0   \n",
       "1514  South Park: The Stick of Truth        1                  0   \n",
       "\n",
       "      animated_blood  blood  blood_and_gore  cartoon_violence  crude_humor  \\\n",
       "16                 0      0               1                 0            0   \n",
       "1514               0      0               1                 0            0   \n",
       "\n",
       "      drug_reference  fantasy_violence  intense_violence  language  lyrics  \\\n",
       "16                 0                 1                 0         0       0   \n",
       "1514               1                 0                 0         0       0   \n",
       "\n",
       "      mature_humor  mild_blood  mild_cartoon_violence  mild_fantasy_violence  \\\n",
       "16               0           1                      0                      0   \n",
       "1514             0           1                      0                      0   \n",
       "\n",
       "      mild_language  mild_lyrics  mild_suggestive_themes  mild_violence  \\\n",
       "16                0            0                       0              0   \n",
       "1514              0            0                       0              0   \n",
       "\n",
       "      no_descriptors  nudity  partial_nudity  sexual_content  sexual_themes  \\\n",
       "16                 0       1               0               0              0   \n",
       "1514               0       0               1               0              0   \n",
       "\n",
       "      simulated_gambling  strong_janguage  strong_sexual_content  \\\n",
       "16                     0                1                      1   \n",
       "1514                   0                1                      0   \n",
       "\n",
       "      suggestive_themes  use_of_alcohol  use_of_drugs_and_alcohol  violence  \\\n",
       "16                    0               0                         0         0   \n",
       "1514                  0               0                         0         0   \n",
       "\n",
       "     esrb_rating  \n",
       "16             M  \n",
       "1514           M  "
      ]
     },
     "execution_count": 15,
     "metadata": {},
     "output_type": "execute_result"
    }
   ],
   "source": [
    "combined_csv[combined_csv['title']==\"South Park: The Stick of Truth\"]\n",
    "#Variables don't match for the same game/sometimes same console"
   ]
  },
  {
   "cell_type": "markdown",
   "metadata": {},
   "source": [
    "# EXPLORE"
   ]
  },
  {
   "cell_type": "markdown",
   "metadata": {},
   "source": [
    "## EDA by Platform"
   ]
  },
  {
   "cell_type": "code",
   "execution_count": 16,
   "metadata": {},
   "outputs": [
    {
     "data": {
      "text/html": [
       "<div>\n",
       "<style scoped>\n",
       "    .dataframe tbody tr th:only-of-type {\n",
       "        vertical-align: middle;\n",
       "    }\n",
       "\n",
       "    .dataframe tbody tr th {\n",
       "        vertical-align: top;\n",
       "    }\n",
       "\n",
       "    .dataframe thead th {\n",
       "        text-align: right;\n",
       "    }\n",
       "</style>\n",
       "<table border=\"1\" class=\"dataframe\">\n",
       "  <thead>\n",
       "    <tr style=\"text-align: right;\">\n",
       "      <th></th>\n",
       "      <th>title</th>\n",
       "      <th>console</th>\n",
       "      <th>alcohol_reference</th>\n",
       "      <th>animated_blood</th>\n",
       "      <th>blood</th>\n",
       "      <th>blood_and_gore</th>\n",
       "      <th>cartoon_violence</th>\n",
       "      <th>crude_humor</th>\n",
       "      <th>drug_reference</th>\n",
       "      <th>fantasy_violence</th>\n",
       "      <th>intense_violence</th>\n",
       "      <th>language</th>\n",
       "      <th>lyrics</th>\n",
       "      <th>mature_humor</th>\n",
       "      <th>mild_blood</th>\n",
       "      <th>mild_cartoon_violence</th>\n",
       "      <th>mild_fantasy_violence</th>\n",
       "      <th>mild_language</th>\n",
       "      <th>mild_lyrics</th>\n",
       "      <th>mild_suggestive_themes</th>\n",
       "      <th>mild_violence</th>\n",
       "      <th>no_descriptors</th>\n",
       "      <th>nudity</th>\n",
       "      <th>partial_nudity</th>\n",
       "      <th>sexual_content</th>\n",
       "      <th>sexual_themes</th>\n",
       "      <th>simulated_gambling</th>\n",
       "      <th>strong_janguage</th>\n",
       "      <th>strong_sexual_content</th>\n",
       "      <th>suggestive_themes</th>\n",
       "      <th>use_of_alcohol</th>\n",
       "      <th>use_of_drugs_and_alcohol</th>\n",
       "      <th>violence</th>\n",
       "      <th>esrb_rating</th>\n",
       "    </tr>\n",
       "  </thead>\n",
       "  <tbody>\n",
       "    <tr>\n",
       "      <th>0</th>\n",
       "      <td>Still Time</td>\n",
       "      <td>0</td>\n",
       "      <td>0</td>\n",
       "      <td>0</td>\n",
       "      <td>1</td>\n",
       "      <td>0</td>\n",
       "      <td>0</td>\n",
       "      <td>0</td>\n",
       "      <td>0</td>\n",
       "      <td>0</td>\n",
       "      <td>0</td>\n",
       "      <td>0</td>\n",
       "      <td>0</td>\n",
       "      <td>0</td>\n",
       "      <td>0</td>\n",
       "      <td>0</td>\n",
       "      <td>0</td>\n",
       "      <td>0</td>\n",
       "      <td>0</td>\n",
       "      <td>0</td>\n",
       "      <td>0</td>\n",
       "      <td>0</td>\n",
       "      <td>0</td>\n",
       "      <td>0</td>\n",
       "      <td>0</td>\n",
       "      <td>0</td>\n",
       "      <td>0</td>\n",
       "      <td>0</td>\n",
       "      <td>0</td>\n",
       "      <td>0</td>\n",
       "      <td>0</td>\n",
       "      <td>0</td>\n",
       "      <td>1</td>\n",
       "      <td>T</td>\n",
       "    </tr>\n",
       "    <tr>\n",
       "      <th>2</th>\n",
       "      <td>The Metronomicon: Slay the Dance Floor</td>\n",
       "      <td>1</td>\n",
       "      <td>0</td>\n",
       "      <td>0</td>\n",
       "      <td>0</td>\n",
       "      <td>1</td>\n",
       "      <td>0</td>\n",
       "      <td>0</td>\n",
       "      <td>0</td>\n",
       "      <td>1</td>\n",
       "      <td>0</td>\n",
       "      <td>0</td>\n",
       "      <td>0</td>\n",
       "      <td>0</td>\n",
       "      <td>0</td>\n",
       "      <td>0</td>\n",
       "      <td>0</td>\n",
       "      <td>0</td>\n",
       "      <td>0</td>\n",
       "      <td>0</td>\n",
       "      <td>0</td>\n",
       "      <td>0</td>\n",
       "      <td>0</td>\n",
       "      <td>0</td>\n",
       "      <td>0</td>\n",
       "      <td>0</td>\n",
       "      <td>0</td>\n",
       "      <td>0</td>\n",
       "      <td>0</td>\n",
       "      <td>0</td>\n",
       "      <td>0</td>\n",
       "      <td>0</td>\n",
       "      <td>0</td>\n",
       "      <td>T</td>\n",
       "    </tr>\n",
       "    <tr>\n",
       "      <th>16</th>\n",
       "      <td>South Park: The Stick of Truth</td>\n",
       "      <td>1</td>\n",
       "      <td>0</td>\n",
       "      <td>0</td>\n",
       "      <td>0</td>\n",
       "      <td>1</td>\n",
       "      <td>0</td>\n",
       "      <td>0</td>\n",
       "      <td>0</td>\n",
       "      <td>1</td>\n",
       "      <td>0</td>\n",
       "      <td>0</td>\n",
       "      <td>0</td>\n",
       "      <td>0</td>\n",
       "      <td>1</td>\n",
       "      <td>0</td>\n",
       "      <td>0</td>\n",
       "      <td>0</td>\n",
       "      <td>0</td>\n",
       "      <td>0</td>\n",
       "      <td>0</td>\n",
       "      <td>0</td>\n",
       "      <td>1</td>\n",
       "      <td>0</td>\n",
       "      <td>0</td>\n",
       "      <td>0</td>\n",
       "      <td>0</td>\n",
       "      <td>1</td>\n",
       "      <td>1</td>\n",
       "      <td>0</td>\n",
       "      <td>0</td>\n",
       "      <td>0</td>\n",
       "      <td>0</td>\n",
       "      <td>M</td>\n",
       "    </tr>\n",
       "    <tr>\n",
       "      <th>22</th>\n",
       "      <td>Mages of Mystralia</td>\n",
       "      <td>1</td>\n",
       "      <td>0</td>\n",
       "      <td>0</td>\n",
       "      <td>0</td>\n",
       "      <td>0</td>\n",
       "      <td>0</td>\n",
       "      <td>0</td>\n",
       "      <td>0</td>\n",
       "      <td>1</td>\n",
       "      <td>0</td>\n",
       "      <td>0</td>\n",
       "      <td>0</td>\n",
       "      <td>0</td>\n",
       "      <td>0</td>\n",
       "      <td>0</td>\n",
       "      <td>0</td>\n",
       "      <td>0</td>\n",
       "      <td>0</td>\n",
       "      <td>0</td>\n",
       "      <td>0</td>\n",
       "      <td>0</td>\n",
       "      <td>0</td>\n",
       "      <td>0</td>\n",
       "      <td>0</td>\n",
       "      <td>0</td>\n",
       "      <td>0</td>\n",
       "      <td>0</td>\n",
       "      <td>0</td>\n",
       "      <td>0</td>\n",
       "      <td>0</td>\n",
       "      <td>0</td>\n",
       "      <td>0</td>\n",
       "      <td>ET</td>\n",
       "    </tr>\n",
       "    <tr>\n",
       "      <th>31</th>\n",
       "      <td>Super Comboman: Smash Edition</td>\n",
       "      <td>1</td>\n",
       "      <td>0</td>\n",
       "      <td>0</td>\n",
       "      <td>0</td>\n",
       "      <td>0</td>\n",
       "      <td>0</td>\n",
       "      <td>0</td>\n",
       "      <td>0</td>\n",
       "      <td>1</td>\n",
       "      <td>0</td>\n",
       "      <td>0</td>\n",
       "      <td>0</td>\n",
       "      <td>0</td>\n",
       "      <td>0</td>\n",
       "      <td>0</td>\n",
       "      <td>0</td>\n",
       "      <td>0</td>\n",
       "      <td>0</td>\n",
       "      <td>0</td>\n",
       "      <td>0</td>\n",
       "      <td>0</td>\n",
       "      <td>0</td>\n",
       "      <td>0</td>\n",
       "      <td>0</td>\n",
       "      <td>0</td>\n",
       "      <td>0</td>\n",
       "      <td>0</td>\n",
       "      <td>0</td>\n",
       "      <td>0</td>\n",
       "      <td>0</td>\n",
       "      <td>0</td>\n",
       "      <td>0</td>\n",
       "      <td>ET</td>\n",
       "    </tr>\n",
       "    <tr>\n",
       "      <th>...</th>\n",
       "      <td>...</td>\n",
       "      <td>...</td>\n",
       "      <td>...</td>\n",
       "      <td>...</td>\n",
       "      <td>...</td>\n",
       "      <td>...</td>\n",
       "      <td>...</td>\n",
       "      <td>...</td>\n",
       "      <td>...</td>\n",
       "      <td>...</td>\n",
       "      <td>...</td>\n",
       "      <td>...</td>\n",
       "      <td>...</td>\n",
       "      <td>...</td>\n",
       "      <td>...</td>\n",
       "      <td>...</td>\n",
       "      <td>...</td>\n",
       "      <td>...</td>\n",
       "      <td>...</td>\n",
       "      <td>...</td>\n",
       "      <td>...</td>\n",
       "      <td>...</td>\n",
       "      <td>...</td>\n",
       "      <td>...</td>\n",
       "      <td>...</td>\n",
       "      <td>...</td>\n",
       "      <td>...</td>\n",
       "      <td>...</td>\n",
       "      <td>...</td>\n",
       "      <td>...</td>\n",
       "      <td>...</td>\n",
       "      <td>...</td>\n",
       "      <td>...</td>\n",
       "      <td>...</td>\n",
       "    </tr>\n",
       "    <tr>\n",
       "      <th>1720</th>\n",
       "      <td>Crawl</td>\n",
       "      <td>0</td>\n",
       "      <td>0</td>\n",
       "      <td>0</td>\n",
       "      <td>0</td>\n",
       "      <td>1</td>\n",
       "      <td>0</td>\n",
       "      <td>1</td>\n",
       "      <td>0</td>\n",
       "      <td>0</td>\n",
       "      <td>0</td>\n",
       "      <td>0</td>\n",
       "      <td>0</td>\n",
       "      <td>0</td>\n",
       "      <td>0</td>\n",
       "      <td>0</td>\n",
       "      <td>0</td>\n",
       "      <td>0</td>\n",
       "      <td>0</td>\n",
       "      <td>0</td>\n",
       "      <td>0</td>\n",
       "      <td>0</td>\n",
       "      <td>0</td>\n",
       "      <td>0</td>\n",
       "      <td>0</td>\n",
       "      <td>1</td>\n",
       "      <td>0</td>\n",
       "      <td>0</td>\n",
       "      <td>0</td>\n",
       "      <td>0</td>\n",
       "      <td>0</td>\n",
       "      <td>0</td>\n",
       "      <td>0</td>\n",
       "      <td>T</td>\n",
       "    </tr>\n",
       "    <tr>\n",
       "      <th>1810</th>\n",
       "      <td>The Inner World</td>\n",
       "      <td>1</td>\n",
       "      <td>0</td>\n",
       "      <td>0</td>\n",
       "      <td>0</td>\n",
       "      <td>0</td>\n",
       "      <td>0</td>\n",
       "      <td>0</td>\n",
       "      <td>0</td>\n",
       "      <td>0</td>\n",
       "      <td>0</td>\n",
       "      <td>0</td>\n",
       "      <td>0</td>\n",
       "      <td>0</td>\n",
       "      <td>0</td>\n",
       "      <td>0</td>\n",
       "      <td>0</td>\n",
       "      <td>1</td>\n",
       "      <td>0</td>\n",
       "      <td>0</td>\n",
       "      <td>0</td>\n",
       "      <td>0</td>\n",
       "      <td>0</td>\n",
       "      <td>0</td>\n",
       "      <td>0</td>\n",
       "      <td>0</td>\n",
       "      <td>0</td>\n",
       "      <td>0</td>\n",
       "      <td>0</td>\n",
       "      <td>1</td>\n",
       "      <td>0</td>\n",
       "      <td>1</td>\n",
       "      <td>0</td>\n",
       "      <td>T</td>\n",
       "    </tr>\n",
       "    <tr>\n",
       "      <th>1833</th>\n",
       "      <td>RAID: WORLD WAR II</td>\n",
       "      <td>1</td>\n",
       "      <td>0</td>\n",
       "      <td>0</td>\n",
       "      <td>0</td>\n",
       "      <td>1</td>\n",
       "      <td>0</td>\n",
       "      <td>0</td>\n",
       "      <td>0</td>\n",
       "      <td>0</td>\n",
       "      <td>0</td>\n",
       "      <td>0</td>\n",
       "      <td>0</td>\n",
       "      <td>0</td>\n",
       "      <td>0</td>\n",
       "      <td>0</td>\n",
       "      <td>0</td>\n",
       "      <td>0</td>\n",
       "      <td>0</td>\n",
       "      <td>0</td>\n",
       "      <td>0</td>\n",
       "      <td>0</td>\n",
       "      <td>0</td>\n",
       "      <td>0</td>\n",
       "      <td>0</td>\n",
       "      <td>0</td>\n",
       "      <td>0</td>\n",
       "      <td>1</td>\n",
       "      <td>0</td>\n",
       "      <td>0</td>\n",
       "      <td>0</td>\n",
       "      <td>0</td>\n",
       "      <td>0</td>\n",
       "      <td>M</td>\n",
       "    </tr>\n",
       "    <tr>\n",
       "      <th>1885</th>\n",
       "      <td>Pillars of Eternity</td>\n",
       "      <td>1</td>\n",
       "      <td>0</td>\n",
       "      <td>0</td>\n",
       "      <td>1</td>\n",
       "      <td>0</td>\n",
       "      <td>0</td>\n",
       "      <td>0</td>\n",
       "      <td>0</td>\n",
       "      <td>0</td>\n",
       "      <td>0</td>\n",
       "      <td>0</td>\n",
       "      <td>0</td>\n",
       "      <td>0</td>\n",
       "      <td>0</td>\n",
       "      <td>0</td>\n",
       "      <td>0</td>\n",
       "      <td>0</td>\n",
       "      <td>0</td>\n",
       "      <td>0</td>\n",
       "      <td>0</td>\n",
       "      <td>0</td>\n",
       "      <td>0</td>\n",
       "      <td>0</td>\n",
       "      <td>0</td>\n",
       "      <td>1</td>\n",
       "      <td>0</td>\n",
       "      <td>1</td>\n",
       "      <td>0</td>\n",
       "      <td>0</td>\n",
       "      <td>0</td>\n",
       "      <td>0</td>\n",
       "      <td>0</td>\n",
       "      <td>M</td>\n",
       "    </tr>\n",
       "    <tr>\n",
       "      <th>1893</th>\n",
       "      <td>Still Time</td>\n",
       "      <td>0</td>\n",
       "      <td>0</td>\n",
       "      <td>0</td>\n",
       "      <td>1</td>\n",
       "      <td>0</td>\n",
       "      <td>0</td>\n",
       "      <td>0</td>\n",
       "      <td>0</td>\n",
       "      <td>0</td>\n",
       "      <td>0</td>\n",
       "      <td>0</td>\n",
       "      <td>0</td>\n",
       "      <td>0</td>\n",
       "      <td>0</td>\n",
       "      <td>0</td>\n",
       "      <td>0</td>\n",
       "      <td>0</td>\n",
       "      <td>0</td>\n",
       "      <td>0</td>\n",
       "      <td>0</td>\n",
       "      <td>0</td>\n",
       "      <td>0</td>\n",
       "      <td>0</td>\n",
       "      <td>0</td>\n",
       "      <td>0</td>\n",
       "      <td>0</td>\n",
       "      <td>0</td>\n",
       "      <td>0</td>\n",
       "      <td>0</td>\n",
       "      <td>0</td>\n",
       "      <td>0</td>\n",
       "      <td>0</td>\n",
       "      <td>T</td>\n",
       "    </tr>\n",
       "  </tbody>\n",
       "</table>\n",
       "<p>78 rows × 34 columns</p>\n",
       "</div>"
      ],
      "text/plain": [
       "                                       title  console  alcohol_reference  \\\n",
       "0                                 Still Time        0                  0   \n",
       "2     The Metronomicon: Slay the Dance Floor        1                  0   \n",
       "16            South Park: The Stick of Truth        1                  0   \n",
       "22                        Mages of Mystralia        1                  0   \n",
       "31             Super Comboman: Smash Edition        1                  0   \n",
       "...                                      ...      ...                ...   \n",
       "1720                                   Crawl        0                  0   \n",
       "1810                         The Inner World        1                  0   \n",
       "1833                      RAID: WORLD WAR II        1                  0   \n",
       "1885                     Pillars of Eternity        1                  0   \n",
       "1893                              Still Time        0                  0   \n",
       "\n",
       "      animated_blood  blood  blood_and_gore  cartoon_violence  crude_humor  \\\n",
       "0                  0      1               0                 0            0   \n",
       "2                  0      0               1                 0            0   \n",
       "16                 0      0               1                 0            0   \n",
       "22                 0      0               0                 0            0   \n",
       "31                 0      0               0                 0            0   \n",
       "...              ...    ...             ...               ...          ...   \n",
       "1720               0      0               1                 0            1   \n",
       "1810               0      0               0                 0            0   \n",
       "1833               0      0               1                 0            0   \n",
       "1885               0      1               0                 0            0   \n",
       "1893               0      1               0                 0            0   \n",
       "\n",
       "      drug_reference  fantasy_violence  intense_violence  language  lyrics  \\\n",
       "0                  0                 0                 0         0       0   \n",
       "2                  0                 1                 0         0       0   \n",
       "16                 0                 1                 0         0       0   \n",
       "22                 0                 1                 0         0       0   \n",
       "31                 0                 1                 0         0       0   \n",
       "...              ...               ...               ...       ...     ...   \n",
       "1720               0                 0                 0         0       0   \n",
       "1810               0                 0                 0         0       0   \n",
       "1833               0                 0                 0         0       0   \n",
       "1885               0                 0                 0         0       0   \n",
       "1893               0                 0                 0         0       0   \n",
       "\n",
       "      mature_humor  mild_blood  mild_cartoon_violence  mild_fantasy_violence  \\\n",
       "0                0           0                      0                      0   \n",
       "2                0           0                      0                      0   \n",
       "16               0           1                      0                      0   \n",
       "22               0           0                      0                      0   \n",
       "31               0           0                      0                      0   \n",
       "...            ...         ...                    ...                    ...   \n",
       "1720             0           0                      0                      0   \n",
       "1810             0           0                      0                      0   \n",
       "1833             0           0                      0                      0   \n",
       "1885             0           0                      0                      0   \n",
       "1893             0           0                      0                      0   \n",
       "\n",
       "      mild_language  mild_lyrics  mild_suggestive_themes  mild_violence  \\\n",
       "0                 0            0                       0              0   \n",
       "2                 0            0                       0              0   \n",
       "16                0            0                       0              0   \n",
       "22                0            0                       0              0   \n",
       "31                0            0                       0              0   \n",
       "...             ...          ...                     ...            ...   \n",
       "1720              0            0                       0              0   \n",
       "1810              1            0                       0              0   \n",
       "1833              0            0                       0              0   \n",
       "1885              0            0                       0              0   \n",
       "1893              0            0                       0              0   \n",
       "\n",
       "      no_descriptors  nudity  partial_nudity  sexual_content  sexual_themes  \\\n",
       "0                  0       0               0               0              0   \n",
       "2                  0       0               0               0              0   \n",
       "16                 0       1               0               0              0   \n",
       "22                 0       0               0               0              0   \n",
       "31                 0       0               0               0              0   \n",
       "...              ...     ...             ...             ...            ...   \n",
       "1720               0       0               0               0              1   \n",
       "1810               0       0               0               0              0   \n",
       "1833               0       0               0               0              0   \n",
       "1885               0       0               0               0              1   \n",
       "1893               0       0               0               0              0   \n",
       "\n",
       "      simulated_gambling  strong_janguage  strong_sexual_content  \\\n",
       "0                      0                0                      0   \n",
       "2                      0                0                      0   \n",
       "16                     0                1                      1   \n",
       "22                     0                0                      0   \n",
       "31                     0                0                      0   \n",
       "...                  ...              ...                    ...   \n",
       "1720                   0                0                      0   \n",
       "1810                   0                0                      0   \n",
       "1833                   0                1                      0   \n",
       "1885                   0                1                      0   \n",
       "1893                   0                0                      0   \n",
       "\n",
       "      suggestive_themes  use_of_alcohol  use_of_drugs_and_alcohol  violence  \\\n",
       "0                     0               0                         0         1   \n",
       "2                     0               0                         0         0   \n",
       "16                    0               0                         0         0   \n",
       "22                    0               0                         0         0   \n",
       "31                    0               0                         0         0   \n",
       "...                 ...             ...                       ...       ...   \n",
       "1720                  0               0                         0         0   \n",
       "1810                  1               0                         1         0   \n",
       "1833                  0               0                         0         0   \n",
       "1885                  0               0                         0         0   \n",
       "1893                  0               0                         0         0   \n",
       "\n",
       "     esrb_rating  \n",
       "0              T  \n",
       "2              T  \n",
       "16             M  \n",
       "22            ET  \n",
       "31            ET  \n",
       "...          ...  \n",
       "1720           T  \n",
       "1810           T  \n",
       "1833           M  \n",
       "1885           M  \n",
       "1893           T  \n",
       "\n",
       "[78 rows x 34 columns]"
      ]
     },
     "execution_count": 16,
     "metadata": {},
     "output_type": "execute_result"
    }
   ],
   "source": [
    "#Where Duplicated Titles\n",
    "combined_csv.drop_duplicates(inplace=True)\n",
    "#Rows where titles are duplicated, consoles are different AND will drop row if the row is an exact duplicate\n",
    "combined_csv[combined_csv['title'].duplicated(keep=False)]"
   ]
  },
  {
   "cell_type": "code",
   "execution_count": 17,
   "metadata": {},
   "outputs": [],
   "source": [
    "value_count_dct = {}\n",
    "for title, console in combined_csv[['title', 'console']].values:\n",
    "    if title in value_count_dct and value_count_dct[title] != console:\n",
    "        value_count_dct[title] = 'Available on Both'\n",
    "    else:\n",
    "        value_count_dct[title] = console"
   ]
  },
  {
   "cell_type": "code",
   "execution_count": 18,
   "metadata": {},
   "outputs": [
    {
     "data": {
      "text/plain": [
       "<AxesSubplot:>"
      ]
     },
     "execution_count": 18,
     "metadata": {},
     "output_type": "execute_result"
    },
    {
     "data": {
      "image/png": "[encoded data removed]",
      "text/plain": [
       "<Figure size 432x288 with 1 Axes>"
      ]
     },
     "metadata": {
      "needs_background": "light"
     },
     "output_type": "display_data"
    }
   ],
   "source": [
    "pd.Series(value_count_dct).value_counts().plot(kind='barh')"
   ]
  },
  {
   "cell_type": "code",
   "execution_count": 19,
   "metadata": {},
   "outputs": [
    {
     "data": {
      "image/png": "[encoded data removed]",
      "text/plain": [
       "<Figure size 864x432 with 2 Axes>"
      ]
     },
     "metadata": {
      "needs_background": "light"
     },
     "output_type": "display_data"
    }
   ],
   "source": [
    "plot_game_consoles(combined_csv)"
   ]
  },
  {
   "cell_type": "markdown",
   "metadata": {},
   "source": [
    "### EDA Platform Summary\n",
    "- Appears to show no games available on both, however we do see later that 63 titles are shared between both.\n",
    "- Function needs fixing"
   ]
  },
  {
   "cell_type": "markdown",
   "metadata": {},
   "source": [
    "### EDA Rating Summary\n",
    "- 4 Ratings Present\n",
    "    - Everyone\n",
    "    - Everyone 10+\n",
    "    - Teen\n",
    "    - Mature"
   ]
  },
  {
   "cell_type": "markdown",
   "metadata": {},
   "source": [
    "## Correlation"
   ]
  },
  {
   "cell_type": "code",
   "execution_count": 21,
   "metadata": {},
   "outputs": [],
   "source": [
    "# One Hot Encoding Ratings\n",
    "mapp = { 'E' : 0,\n",
    "          'ET': 1,\n",
    "          'T' : 2,\n",
    "          'M' : 3,}\n",
    "\n",
    "combined_csv['esrb_rating'] = combined_csv['esrb_rating'].map(mapp)"
   ]
  },
  {
   "cell_type": "code",
   "execution_count": 22,
   "metadata": {},
   "outputs": [],
   "source": [
    "subjective_corr = combined_csv.corr()\n",
    "subjective_corr[np.abs(subjective_corr)<.2]=0\n",
    "mask = np.zeros_like(subjective_corr, dtype=np.bool)\n",
    "mask[np.triu_indices_from(mask)] = True"
   ]
  },
  {
   "cell_type": "code",
   "execution_count": 23,
   "metadata": {
    "scrolled": false
   },
   "outputs": [
    {
     "data": {
      "image/png": "[encoded data removed]",
      "text/plain": [
       "<Figure size 1800x1440 with 2 Axes>"
      ]
     },
     "metadata": {
      "needs_background": "light"
     },
     "output_type": "display_data"
    }
   ],
   "source": [
    "fig, ax = plt.subplots(figsize=(25,20))\n",
    "corr = combined_csv.corr().round(3)\n",
    "sb.heatmap(corr, annot=True,ax=ax, mask=mask)\n",
    "plt.setp(ax.get_xticklabels(), \n",
    "         rotation=45, \n",
    "         ha=\"right\",\n",
    "         rotation_mode=\"anchor\")\n",
    "ax.set_title('Correlations')\n",
    "set_frameon(ax, True)\n",
    "fig.tight_layout()"
   ]
  },
  {
   "cell_type": "code",
   "execution_count": 24,
   "metadata": {},
   "outputs": [
    {
     "data": {
      "image/png": "[encoded data removed]",
      "text/plain": [
       "<Figure size 1080x1080 with 36 Axes>"
      ]
     },
     "metadata": {
      "needs_background": "light"
     },
     "output_type": "display_data"
    }
   ],
   "source": [
    "combined_csv.hist(figsize=(15,15))\n",
    "plt.tight_layout()"
   ]
  },
  {
   "cell_type": "markdown",
   "metadata": {},
   "source": [
    "# MODEL"
   ]
  },
  {
   "cell_type": "markdown",
   "metadata": {},
   "source": [
    "## Evalution Metrics"
   ]
  },
  {
   "cell_type": "markdown",
   "metadata": {},
   "source": [
    "- Ratings\n",
    "\n",
    "- Recall should be the most important metrics as       you descend the rating ladder. This mainly because you don't want games that may have Mature or Teen related content to be released to a rating of E so that children or young teenagers outside the ESRB's recommended ratings do not get exposed to such content.\n",
    "\n",
    "- As the rating increases the overall metrics (for this dataset) show precisely how as more content gets added to a game increasing its rating, the lower recall, f1 and precision weigh on those ratings. If this dataset contained Ao (Adults Only) rating game content, that is when you'd want to put more emphasis on those same metrics again. You don't want a pornographic scene in a video game that would normally get rated Ao to get a rating of M. While the blowback would not be as bad as a Mature content ratred game recieving an E, it would still be bad. \n",
    "\n",
    "- TL:DR - You want stringent checking of the ratings for younger audiences, as those ratings increase with age the less importance is put on catching features and content associated with those ratings"
   ]
  },
  {
   "cell_type": "markdown",
   "metadata": {},
   "source": [
    "## Train Test Split"
   ]
  },
  {
   "cell_type": "code",
   "execution_count": 25,
   "metadata": {},
   "outputs": [],
   "source": [
    "#Train Test Split\n",
    "X = combined_csv.drop(['esrb_rating', 'title'],1)\n",
    "\n",
    "y = combined_csv[['esrb_rating']]\n",
    "\n",
    "X_train, X_test, y_train, y_test = train_test_split(X, y, test_size = 0.3, random_state = 354681)"
   ]
  },
  {
   "cell_type": "markdown",
   "metadata": {},
   "source": [
    "## Initial Model"
   ]
  },
  {
   "cell_type": "markdown",
   "metadata": {},
   "source": [
    "### Decision Tree"
   ]
  },
  {
   "cell_type": "code",
   "execution_count": 26,
   "metadata": {},
   "outputs": [
    {
     "data": {
      "text/plain": [
       "DecisionTreeClassifier()"
      ]
     },
     "execution_count": 26,
     "metadata": {},
     "output_type": "execute_result"
    }
   ],
   "source": [
    "#Fit decision tree, initial classifier, no parameters\n",
    "dtc = DecisionTreeClassifier()\n",
    "\n",
    "dtc.fit(X_train, y_train)"
   ]
  },
  {
   "cell_type": "code",
   "execution_count": 27,
   "metadata": {},
   "outputs": [
    {
     "data": {
      "text/plain": [
       "0.9282700421940928"
      ]
     },
     "execution_count": 27,
     "metadata": {},
     "output_type": "execute_result"
    }
   ],
   "source": [
    "#Initial dtc training score\n",
    "dtc.score(X_train, y_train)"
   ]
  },
  {
   "cell_type": "code",
   "execution_count": 28,
   "metadata": {},
   "outputs": [
    {
     "data": {
      "text/plain": [
       "0.8356741573033708"
      ]
     },
     "execution_count": 28,
     "metadata": {},
     "output_type": "execute_result"
    }
   ],
   "source": [
    "#Initial dtc test score\n",
    "dtc.score(X_test, y_test)"
   ]
  },
  {
   "cell_type": "code",
   "execution_count": 29,
   "metadata": {
    "scrolled": true
   },
   "outputs": [
    {
     "name": "stdout",
     "output_type": "stream",
     "text": [
      "Accuracy:  0.8356741573033708\n"
     ]
    }
   ],
   "source": [
    "y_preds = dtc.predict(X_test)\n",
    "\n",
    "print('Accuracy: ', accuracy_score(y_test, y_preds))"
   ]
  },
  {
   "cell_type": "code",
   "execution_count": 30,
   "metadata": {
    "scrolled": false
   },
   "outputs": [
    {
     "data": {
      "image/png": "[encoded data removed]",
      "text/plain": [
       "<Figure size 576x576 with 2 Axes>"
      ]
     },
     "metadata": {
      "needs_background": "light"
     },
     "output_type": "display_data"
    },
    {
     "name": "stdout",
     "output_type": "stream",
     "text": [
      "              precision    recall  f1-score   support\n",
      "\n",
      "           0       0.93      0.99      0.96       138\n",
      "           1       0.74      0.86      0.79       143\n",
      "           2       0.82      0.76      0.79       268\n",
      "           3       0.88      0.80      0.84       163\n",
      "\n",
      "    accuracy                           0.84       712\n",
      "   macro avg       0.84      0.85      0.85       712\n",
      "weighted avg       0.84      0.84      0.83       712\n",
      "\n",
      "Accuracy:83.57%\n"
     ]
    }
   ],
   "source": [
    "#Confusion matrix, initial dtc classifier\n",
    "classification(\n",
    "    X_train=X_train,\n",
    "    X_test=X_test,\n",
    "    y_train=y_train,\n",
    "    y_test=y_test,\n",
    "    classifier=dtc)"
   ]
  },
  {
   "cell_type": "markdown",
   "metadata": {},
   "source": [
    "- Model on training set\n",
    "    - Numbers on the Bottom/Left indicate failure based off of recall metric to catch harmful content from falling into lower ESRB ratings\n",
    "    - Numbers on Top/Right indicate a game receiving a stricter rating than is required, while this could impact outreach and sales, questionable content is caught from lower ratings"
   ]
  },
  {
   "cell_type": "markdown",
   "metadata": {},
   "source": [
    "### KNN"
   ]
  },
  {
   "cell_type": "code",
   "execution_count": 31,
   "metadata": {},
   "outputs": [],
   "source": [
    "##Fit knn initial classifier, no parameters\n",
    "knn = KNeighborsClassifier()"
   ]
  },
  {
   "cell_type": "code",
   "execution_count": 32,
   "metadata": {
    "scrolled": false
   },
   "outputs": [
    {
     "ename": "NotFittedError",
     "evalue": "This KNeighborsClassifier instance is not fitted yet. Call 'fit' with appropriate arguments before using this estimator.",
     "output_type": "error",
     "traceback": [
      "\u001b[1;31m---------------------------------------------------------------------------\u001b[0m",
      "\u001b[1;31mNotFittedError\u001b[0m                            Traceback (most recent call last)",
      "\u001b[1;32m<ipython-input-32-430047740d8c>\u001b[0m in \u001b[0;36m<module>\u001b[1;34m\u001b[0m\n\u001b[0;32m      5\u001b[0m     \u001b[0my_train\u001b[0m\u001b[1;33m=\u001b[0m\u001b[0my_train\u001b[0m\u001b[1;33m,\u001b[0m\u001b[1;33m\u001b[0m\u001b[1;33m\u001b[0m\u001b[0m\n\u001b[0;32m      6\u001b[0m     \u001b[0my_test\u001b[0m\u001b[1;33m=\u001b[0m\u001b[0my_test\u001b[0m\u001b[1;33m,\u001b[0m\u001b[1;33m\u001b[0m\u001b[1;33m\u001b[0m\u001b[0m\n\u001b[1;32m----> 7\u001b[1;33m     classifier=knn)\n\u001b[0m",
      "\u001b[1;32m<ipython-input-4-9008fb3c705c>\u001b[0m in \u001b[0;36mclassification\u001b[1;34m(X_train, y_train, X_test, y_test, classifier)\u001b[0m\n\u001b[0;32m      1\u001b[0m \u001b[1;31m#Classification Function\u001b[0m\u001b[1;33m\u001b[0m\u001b[1;33m\u001b[0m\u001b[1;33m\u001b[0m\u001b[0m\n\u001b[0;32m      2\u001b[0m \u001b[1;32mdef\u001b[0m \u001b[0mclassification\u001b[0m\u001b[1;33m(\u001b[0m\u001b[0mX_train\u001b[0m\u001b[1;33m,\u001b[0m \u001b[0my_train\u001b[0m\u001b[1;33m,\u001b[0m\u001b[0mX_test\u001b[0m\u001b[1;33m,\u001b[0m\u001b[0my_test\u001b[0m\u001b[1;33m,\u001b[0m \u001b[0mclassifier\u001b[0m\u001b[1;33m)\u001b[0m\u001b[1;33m:\u001b[0m\u001b[1;33m\u001b[0m\u001b[1;33m\u001b[0m\u001b[0m\n\u001b[1;32m----> 3\u001b[1;33m     \u001b[0my_pred\u001b[0m \u001b[1;33m=\u001b[0m \u001b[0mclassifier\u001b[0m\u001b[1;33m.\u001b[0m\u001b[0mpredict\u001b[0m\u001b[1;33m(\u001b[0m\u001b[0mX_test\u001b[0m\u001b[1;33m)\u001b[0m\u001b[1;33m\u001b[0m\u001b[1;33m\u001b[0m\u001b[0m\n\u001b[0m\u001b[0;32m      4\u001b[0m     \u001b[0mfig\u001b[0m\u001b[1;33m,\u001b[0m \u001b[0max\u001b[0m \u001b[1;33m=\u001b[0m \u001b[0mplt\u001b[0m\u001b[1;33m.\u001b[0m\u001b[0msubplots\u001b[0m\u001b[1;33m(\u001b[0m\u001b[0mfigsize\u001b[0m\u001b[1;33m=\u001b[0m\u001b[1;33m(\u001b[0m\u001b[1;36m8\u001b[0m\u001b[1;33m,\u001b[0m\u001b[1;36m8\u001b[0m\u001b[1;33m)\u001b[0m\u001b[1;33m)\u001b[0m\u001b[1;33m\u001b[0m\u001b[1;33m\u001b[0m\u001b[0m\n\u001b[0;32m      5\u001b[0m     \u001b[0mplot_confusion_matrix\u001b[0m\u001b[1;33m(\u001b[0m\u001b[0mestimator\u001b[0m\u001b[1;33m=\u001b[0m\u001b[0mclassifier\u001b[0m\u001b[1;33m,\u001b[0m \u001b[0mX\u001b[0m\u001b[1;33m=\u001b[0m\u001b[0mX_test\u001b[0m\u001b[1;33m,\u001b[0m \u001b[0my_true\u001b[0m\u001b[1;33m=\u001b[0m\u001b[0my_test\u001b[0m\u001b[1;33m,\u001b[0m \u001b[0max\u001b[0m\u001b[1;33m=\u001b[0m\u001b[0max\u001b[0m\u001b[1;33m)\u001b[0m\u001b[1;33m\u001b[0m\u001b[1;33m\u001b[0m\u001b[0m\n",
      "\u001b[1;32m~\\anaconda3\\envs\\learn-env\\lib\\site-packages\\sklearn\\neighbors\\_classification.py\u001b[0m in \u001b[0;36mpredict\u001b[1;34m(self, X)\u001b[0m\n\u001b[0;32m    195\u001b[0m         \u001b[0mX\u001b[0m \u001b[1;33m=\u001b[0m \u001b[0mcheck_array\u001b[0m\u001b[1;33m(\u001b[0m\u001b[0mX\u001b[0m\u001b[1;33m,\u001b[0m \u001b[0maccept_sparse\u001b[0m\u001b[1;33m=\u001b[0m\u001b[1;34m'csr'\u001b[0m\u001b[1;33m)\u001b[0m\u001b[1;33m\u001b[0m\u001b[1;33m\u001b[0m\u001b[0m\n\u001b[0;32m    196\u001b[0m \u001b[1;33m\u001b[0m\u001b[0m\n\u001b[1;32m--> 197\u001b[1;33m         \u001b[0mneigh_dist\u001b[0m\u001b[1;33m,\u001b[0m \u001b[0mneigh_ind\u001b[0m \u001b[1;33m=\u001b[0m \u001b[0mself\u001b[0m\u001b[1;33m.\u001b[0m\u001b[0mkneighbors\u001b[0m\u001b[1;33m(\u001b[0m\u001b[0mX\u001b[0m\u001b[1;33m)\u001b[0m\u001b[1;33m\u001b[0m\u001b[1;33m\u001b[0m\u001b[0m\n\u001b[0m\u001b[0;32m    198\u001b[0m         \u001b[0mclasses_\u001b[0m \u001b[1;33m=\u001b[0m \u001b[0mself\u001b[0m\u001b[1;33m.\u001b[0m\u001b[0mclasses_\u001b[0m\u001b[1;33m\u001b[0m\u001b[1;33m\u001b[0m\u001b[0m\n\u001b[0;32m    199\u001b[0m         \u001b[0m_y\u001b[0m \u001b[1;33m=\u001b[0m \u001b[0mself\u001b[0m\u001b[1;33m.\u001b[0m\u001b[0m_y\u001b[0m\u001b[1;33m\u001b[0m\u001b[1;33m\u001b[0m\u001b[0m\n",
      "\u001b[1;32m~\\anaconda3\\envs\\learn-env\\lib\\site-packages\\sklearn\\neighbors\\_base.py\u001b[0m in \u001b[0;36mkneighbors\u001b[1;34m(self, X, n_neighbors, return_distance)\u001b[0m\n\u001b[0;32m    647\u001b[0m                [2]]...)\n\u001b[0;32m    648\u001b[0m         \"\"\"\n\u001b[1;32m--> 649\u001b[1;33m         \u001b[0mcheck_is_fitted\u001b[0m\u001b[1;33m(\u001b[0m\u001b[0mself\u001b[0m\u001b[1;33m)\u001b[0m\u001b[1;33m\u001b[0m\u001b[1;33m\u001b[0m\u001b[0m\n\u001b[0m\u001b[0;32m    650\u001b[0m \u001b[1;33m\u001b[0m\u001b[0m\n\u001b[0;32m    651\u001b[0m         \u001b[1;32mif\u001b[0m \u001b[0mn_neighbors\u001b[0m \u001b[1;32mis\u001b[0m \u001b[1;32mNone\u001b[0m\u001b[1;33m:\u001b[0m\u001b[1;33m\u001b[0m\u001b[1;33m\u001b[0m\u001b[0m\n",
      "\u001b[1;32m~\\anaconda3\\envs\\learn-env\\lib\\site-packages\\sklearn\\utils\\validation.py\u001b[0m in \u001b[0;36minner_f\u001b[1;34m(*args, **kwargs)\u001b[0m\n\u001b[0;32m     61\u001b[0m             \u001b[0mextra_args\u001b[0m \u001b[1;33m=\u001b[0m \u001b[0mlen\u001b[0m\u001b[1;33m(\u001b[0m\u001b[0margs\u001b[0m\u001b[1;33m)\u001b[0m \u001b[1;33m-\u001b[0m \u001b[0mlen\u001b[0m\u001b[1;33m(\u001b[0m\u001b[0mall_args\u001b[0m\u001b[1;33m)\u001b[0m\u001b[1;33m\u001b[0m\u001b[1;33m\u001b[0m\u001b[0m\n\u001b[0;32m     62\u001b[0m             \u001b[1;32mif\u001b[0m \u001b[0mextra_args\u001b[0m \u001b[1;33m<=\u001b[0m \u001b[1;36m0\u001b[0m\u001b[1;33m:\u001b[0m\u001b[1;33m\u001b[0m\u001b[1;33m\u001b[0m\u001b[0m\n\u001b[1;32m---> 63\u001b[1;33m                 \u001b[1;32mreturn\u001b[0m \u001b[0mf\u001b[0m\u001b[1;33m(\u001b[0m\u001b[1;33m*\u001b[0m\u001b[0margs\u001b[0m\u001b[1;33m,\u001b[0m \u001b[1;33m**\u001b[0m\u001b[0mkwargs\u001b[0m\u001b[1;33m)\u001b[0m\u001b[1;33m\u001b[0m\u001b[1;33m\u001b[0m\u001b[0m\n\u001b[0m\u001b[0;32m     64\u001b[0m \u001b[1;33m\u001b[0m\u001b[0m\n\u001b[0;32m     65\u001b[0m             \u001b[1;31m# extra_args > 0\u001b[0m\u001b[1;33m\u001b[0m\u001b[1;33m\u001b[0m\u001b[1;33m\u001b[0m\u001b[0m\n",
      "\u001b[1;32m~\\anaconda3\\envs\\learn-env\\lib\\site-packages\\sklearn\\utils\\validation.py\u001b[0m in \u001b[0;36mcheck_is_fitted\u001b[1;34m(estimator, attributes, msg, all_or_any)\u001b[0m\n\u001b[0;32m   1039\u001b[0m \u001b[1;33m\u001b[0m\u001b[0m\n\u001b[0;32m   1040\u001b[0m     \u001b[1;32mif\u001b[0m \u001b[1;32mnot\u001b[0m \u001b[0mattrs\u001b[0m\u001b[1;33m:\u001b[0m\u001b[1;33m\u001b[0m\u001b[1;33m\u001b[0m\u001b[0m\n\u001b[1;32m-> 1041\u001b[1;33m         \u001b[1;32mraise\u001b[0m \u001b[0mNotFittedError\u001b[0m\u001b[1;33m(\u001b[0m\u001b[0mmsg\u001b[0m \u001b[1;33m%\u001b[0m \u001b[1;33m{\u001b[0m\u001b[1;34m'name'\u001b[0m\u001b[1;33m:\u001b[0m \u001b[0mtype\u001b[0m\u001b[1;33m(\u001b[0m\u001b[0mestimator\u001b[0m\u001b[1;33m)\u001b[0m\u001b[1;33m.\u001b[0m\u001b[0m__name__\u001b[0m\u001b[1;33m}\u001b[0m\u001b[1;33m)\u001b[0m\u001b[1;33m\u001b[0m\u001b[1;33m\u001b[0m\u001b[0m\n\u001b[0m\u001b[0;32m   1042\u001b[0m \u001b[1;33m\u001b[0m\u001b[0m\n\u001b[0;32m   1043\u001b[0m \u001b[1;33m\u001b[0m\u001b[0m\n",
      "\u001b[1;31mNotFittedError\u001b[0m: This KNeighborsClassifier instance is not fitted yet. Call 'fit' with appropriate arguments before using this estimator."
     ]
    }
   ],
   "source": [
    "#Confusion matrix, initial knn classifier\n",
    "classification(\n",
    "    X_train=X_train,\n",
    "    X_test=X_test,\n",
    "    y_train=y_train,\n",
    "    y_test=y_test,\n",
    "    classifier=knn)"
   ]
  },
  {
   "cell_type": "markdown",
   "metadata": {},
   "source": [
    "- Model on training set\n",
    "    - Numbers on the Bottom/Left indicate failure based off of recall metric to catch harmful content from falling into lower ESRB ratings\n",
    "    - Numbers on Top/Right indicate a game receiving a stricter rating than is required, while this could impact outreach and sales, questionable content is caught from lower ratings"
   ]
  },
  {
   "cell_type": "markdown",
   "metadata": {},
   "source": [
    "### Random Forest"
   ]
  },
  {
   "cell_type": "code",
   "execution_count": 33,
   "metadata": {},
   "outputs": [],
   "source": [
    "##Fit random forest initial classifier, no parameters\n",
    "rfc = RandomForestClassifier()"
   ]
  },
  {
   "cell_type": "code",
   "execution_count": 34,
   "metadata": {
    "scrolled": false
   },
   "outputs": [
    {
     "ename": "NotFittedError",
     "evalue": "This RandomForestClassifier instance is not fitted yet. Call 'fit' with appropriate arguments before using this estimator.",
     "output_type": "error",
     "traceback": [
      "\u001b[1;31m---------------------------------------------------------------------------\u001b[0m",
      "\u001b[1;31mNotFittedError\u001b[0m                            Traceback (most recent call last)",
      "\u001b[1;32m<ipython-input-34-15476429a365>\u001b[0m in \u001b[0;36m<module>\u001b[1;34m\u001b[0m\n\u001b[0;32m      5\u001b[0m     \u001b[0my_train\u001b[0m\u001b[1;33m=\u001b[0m\u001b[0my_train\u001b[0m\u001b[1;33m,\u001b[0m\u001b[1;33m\u001b[0m\u001b[1;33m\u001b[0m\u001b[0m\n\u001b[0;32m      6\u001b[0m     \u001b[0my_test\u001b[0m\u001b[1;33m=\u001b[0m\u001b[0my_test\u001b[0m\u001b[1;33m,\u001b[0m\u001b[1;33m\u001b[0m\u001b[1;33m\u001b[0m\u001b[0m\n\u001b[1;32m----> 7\u001b[1;33m     classifier=rfc)\n\u001b[0m",
      "\u001b[1;32m<ipython-input-4-9008fb3c705c>\u001b[0m in \u001b[0;36mclassification\u001b[1;34m(X_train, y_train, X_test, y_test, classifier)\u001b[0m\n\u001b[0;32m      1\u001b[0m \u001b[1;31m#Classification Function\u001b[0m\u001b[1;33m\u001b[0m\u001b[1;33m\u001b[0m\u001b[1;33m\u001b[0m\u001b[0m\n\u001b[0;32m      2\u001b[0m \u001b[1;32mdef\u001b[0m \u001b[0mclassification\u001b[0m\u001b[1;33m(\u001b[0m\u001b[0mX_train\u001b[0m\u001b[1;33m,\u001b[0m \u001b[0my_train\u001b[0m\u001b[1;33m,\u001b[0m\u001b[0mX_test\u001b[0m\u001b[1;33m,\u001b[0m\u001b[0my_test\u001b[0m\u001b[1;33m,\u001b[0m \u001b[0mclassifier\u001b[0m\u001b[1;33m)\u001b[0m\u001b[1;33m:\u001b[0m\u001b[1;33m\u001b[0m\u001b[1;33m\u001b[0m\u001b[0m\n\u001b[1;32m----> 3\u001b[1;33m     \u001b[0my_pred\u001b[0m \u001b[1;33m=\u001b[0m \u001b[0mclassifier\u001b[0m\u001b[1;33m.\u001b[0m\u001b[0mpredict\u001b[0m\u001b[1;33m(\u001b[0m\u001b[0mX_test\u001b[0m\u001b[1;33m)\u001b[0m\u001b[1;33m\u001b[0m\u001b[1;33m\u001b[0m\u001b[0m\n\u001b[0m\u001b[0;32m      4\u001b[0m     \u001b[0mfig\u001b[0m\u001b[1;33m,\u001b[0m \u001b[0max\u001b[0m \u001b[1;33m=\u001b[0m \u001b[0mplt\u001b[0m\u001b[1;33m.\u001b[0m\u001b[0msubplots\u001b[0m\u001b[1;33m(\u001b[0m\u001b[0mfigsize\u001b[0m\u001b[1;33m=\u001b[0m\u001b[1;33m(\u001b[0m\u001b[1;36m8\u001b[0m\u001b[1;33m,\u001b[0m\u001b[1;36m8\u001b[0m\u001b[1;33m)\u001b[0m\u001b[1;33m)\u001b[0m\u001b[1;33m\u001b[0m\u001b[1;33m\u001b[0m\u001b[0m\n\u001b[0;32m      5\u001b[0m     \u001b[0mplot_confusion_matrix\u001b[0m\u001b[1;33m(\u001b[0m\u001b[0mestimator\u001b[0m\u001b[1;33m=\u001b[0m\u001b[0mclassifier\u001b[0m\u001b[1;33m,\u001b[0m \u001b[0mX\u001b[0m\u001b[1;33m=\u001b[0m\u001b[0mX_test\u001b[0m\u001b[1;33m,\u001b[0m \u001b[0my_true\u001b[0m\u001b[1;33m=\u001b[0m\u001b[0my_test\u001b[0m\u001b[1;33m,\u001b[0m \u001b[0max\u001b[0m\u001b[1;33m=\u001b[0m\u001b[0max\u001b[0m\u001b[1;33m)\u001b[0m\u001b[1;33m\u001b[0m\u001b[1;33m\u001b[0m\u001b[0m\n",
      "\u001b[1;32m~\\anaconda3\\envs\\learn-env\\lib\\site-packages\\sklearn\\ensemble\\_forest.py\u001b[0m in \u001b[0;36mpredict\u001b[1;34m(self, X)\u001b[0m\n\u001b[0;32m    628\u001b[0m             \u001b[0mThe\u001b[0m \u001b[0mpredicted\u001b[0m \u001b[0mclasses\u001b[0m\u001b[1;33m.\u001b[0m\u001b[1;33m\u001b[0m\u001b[1;33m\u001b[0m\u001b[0m\n\u001b[0;32m    629\u001b[0m         \"\"\"\n\u001b[1;32m--> 630\u001b[1;33m         \u001b[0mproba\u001b[0m \u001b[1;33m=\u001b[0m \u001b[0mself\u001b[0m\u001b[1;33m.\u001b[0m\u001b[0mpredict_proba\u001b[0m\u001b[1;33m(\u001b[0m\u001b[0mX\u001b[0m\u001b[1;33m)\u001b[0m\u001b[1;33m\u001b[0m\u001b[1;33m\u001b[0m\u001b[0m\n\u001b[0m\u001b[0;32m    631\u001b[0m \u001b[1;33m\u001b[0m\u001b[0m\n\u001b[0;32m    632\u001b[0m         \u001b[1;32mif\u001b[0m \u001b[0mself\u001b[0m\u001b[1;33m.\u001b[0m\u001b[0mn_outputs_\u001b[0m \u001b[1;33m==\u001b[0m \u001b[1;36m1\u001b[0m\u001b[1;33m:\u001b[0m\u001b[1;33m\u001b[0m\u001b[1;33m\u001b[0m\u001b[0m\n",
      "\u001b[1;32m~\\anaconda3\\envs\\learn-env\\lib\\site-packages\\sklearn\\ensemble\\_forest.py\u001b[0m in \u001b[0;36mpredict_proba\u001b[1;34m(self, X)\u001b[0m\n\u001b[0;32m    670\u001b[0m             \u001b[0mclasses\u001b[0m \u001b[0mcorresponds\u001b[0m \u001b[0mto\u001b[0m \u001b[0mthat\u001b[0m \u001b[1;32min\u001b[0m \u001b[0mthe\u001b[0m \u001b[0mattribute\u001b[0m \u001b[1;33m:\u001b[0m\u001b[0mterm\u001b[0m\u001b[1;33m:\u001b[0m\u001b[0;31m`\u001b[0m\u001b[0mclasses_\u001b[0m\u001b[0;31m`\u001b[0m\u001b[1;33m.\u001b[0m\u001b[1;33m\u001b[0m\u001b[1;33m\u001b[0m\u001b[0m\n\u001b[0;32m    671\u001b[0m         \"\"\"\n\u001b[1;32m--> 672\u001b[1;33m         \u001b[0mcheck_is_fitted\u001b[0m\u001b[1;33m(\u001b[0m\u001b[0mself\u001b[0m\u001b[1;33m)\u001b[0m\u001b[1;33m\u001b[0m\u001b[1;33m\u001b[0m\u001b[0m\n\u001b[0m\u001b[0;32m    673\u001b[0m         \u001b[1;31m# Check data\u001b[0m\u001b[1;33m\u001b[0m\u001b[1;33m\u001b[0m\u001b[1;33m\u001b[0m\u001b[0m\n\u001b[0;32m    674\u001b[0m         \u001b[0mX\u001b[0m \u001b[1;33m=\u001b[0m \u001b[0mself\u001b[0m\u001b[1;33m.\u001b[0m\u001b[0m_validate_X_predict\u001b[0m\u001b[1;33m(\u001b[0m\u001b[0mX\u001b[0m\u001b[1;33m)\u001b[0m\u001b[1;33m\u001b[0m\u001b[1;33m\u001b[0m\u001b[0m\n",
      "\u001b[1;32m~\\anaconda3\\envs\\learn-env\\lib\\site-packages\\sklearn\\utils\\validation.py\u001b[0m in \u001b[0;36minner_f\u001b[1;34m(*args, **kwargs)\u001b[0m\n\u001b[0;32m     61\u001b[0m             \u001b[0mextra_args\u001b[0m \u001b[1;33m=\u001b[0m \u001b[0mlen\u001b[0m\u001b[1;33m(\u001b[0m\u001b[0margs\u001b[0m\u001b[1;33m)\u001b[0m \u001b[1;33m-\u001b[0m \u001b[0mlen\u001b[0m\u001b[1;33m(\u001b[0m\u001b[0mall_args\u001b[0m\u001b[1;33m)\u001b[0m\u001b[1;33m\u001b[0m\u001b[1;33m\u001b[0m\u001b[0m\n\u001b[0;32m     62\u001b[0m             \u001b[1;32mif\u001b[0m \u001b[0mextra_args\u001b[0m \u001b[1;33m<=\u001b[0m \u001b[1;36m0\u001b[0m\u001b[1;33m:\u001b[0m\u001b[1;33m\u001b[0m\u001b[1;33m\u001b[0m\u001b[0m\n\u001b[1;32m---> 63\u001b[1;33m                 \u001b[1;32mreturn\u001b[0m \u001b[0mf\u001b[0m\u001b[1;33m(\u001b[0m\u001b[1;33m*\u001b[0m\u001b[0margs\u001b[0m\u001b[1;33m,\u001b[0m \u001b[1;33m**\u001b[0m\u001b[0mkwargs\u001b[0m\u001b[1;33m)\u001b[0m\u001b[1;33m\u001b[0m\u001b[1;33m\u001b[0m\u001b[0m\n\u001b[0m\u001b[0;32m     64\u001b[0m \u001b[1;33m\u001b[0m\u001b[0m\n\u001b[0;32m     65\u001b[0m             \u001b[1;31m# extra_args > 0\u001b[0m\u001b[1;33m\u001b[0m\u001b[1;33m\u001b[0m\u001b[1;33m\u001b[0m\u001b[0m\n",
      "\u001b[1;32m~\\anaconda3\\envs\\learn-env\\lib\\site-packages\\sklearn\\utils\\validation.py\u001b[0m in \u001b[0;36mcheck_is_fitted\u001b[1;34m(estimator, attributes, msg, all_or_any)\u001b[0m\n\u001b[0;32m   1039\u001b[0m \u001b[1;33m\u001b[0m\u001b[0m\n\u001b[0;32m   1040\u001b[0m     \u001b[1;32mif\u001b[0m \u001b[1;32mnot\u001b[0m \u001b[0mattrs\u001b[0m\u001b[1;33m:\u001b[0m\u001b[1;33m\u001b[0m\u001b[1;33m\u001b[0m\u001b[0m\n\u001b[1;32m-> 1041\u001b[1;33m         \u001b[1;32mraise\u001b[0m \u001b[0mNotFittedError\u001b[0m\u001b[1;33m(\u001b[0m\u001b[0mmsg\u001b[0m \u001b[1;33m%\u001b[0m \u001b[1;33m{\u001b[0m\u001b[1;34m'name'\u001b[0m\u001b[1;33m:\u001b[0m \u001b[0mtype\u001b[0m\u001b[1;33m(\u001b[0m\u001b[0mestimator\u001b[0m\u001b[1;33m)\u001b[0m\u001b[1;33m.\u001b[0m\u001b[0m__name__\u001b[0m\u001b[1;33m}\u001b[0m\u001b[1;33m)\u001b[0m\u001b[1;33m\u001b[0m\u001b[1;33m\u001b[0m\u001b[0m\n\u001b[0m\u001b[0;32m   1042\u001b[0m \u001b[1;33m\u001b[0m\u001b[0m\n\u001b[0;32m   1043\u001b[0m \u001b[1;33m\u001b[0m\u001b[0m\n",
      "\u001b[1;31mNotFittedError\u001b[0m: This RandomForestClassifier instance is not fitted yet. Call 'fit' with appropriate arguments before using this estimator."
     ]
    }
   ],
   "source": [
    "#Confusion matrix, initial rfc classifier\n",
    "classification(\n",
    "    X_train=X_train,\n",
    "    X_test=X_test,\n",
    "    y_train=y_train,\n",
    "    y_test=y_test,\n",
    "    classifier=rfc)"
   ]
  },
  {
   "cell_type": "markdown",
   "metadata": {},
   "source": [
    "- Model on training set\n",
    "    - Numbers on the Bottom/Left indicate failure based off of recall metric to catch harmful content from falling into lower ESRB ratings\n",
    "    - Numbers on Top/Right indicate a game receiving a stricter rating than is required, while this could impact outreach and sales, questionable content is caught from lower ratings"
   ]
  },
  {
   "cell_type": "markdown",
   "metadata": {},
   "source": [
    "- DTC              precision    recall  f1-score   support\n",
    "\n",
    "           0       0.93      0.97      0.95       161\n",
    "           1       0.78      0.87      0.82       155\n",
    "           2       0.87      0.79      0.82       271\n",
    "           3       0.87      0.87      0.87       132\n",
    "           \n",
    "           \n",
    "- KNN              precision    recall  f1-score   support\n",
    "\n",
    "           0       0.85      0.98      0.91       161\n",
    "           1       0.69      0.77      0.73       155\n",
    "           2       0.80      0.70      0.75       271\n",
    "           3       0.89      0.83      0.86       132\n",
    "           \n",
    "- RFC              precision    recall  f1-score   support\n",
    "\n",
    "           0       0.91      0.97      0.94       161\n",
    "           1       0.77      0.82      0.79       155\n",
    "           2       0.86      0.78      0.82       271\n",
    "           3       0.88      0.90      0.89       132"
   ]
  },
  {
   "cell_type": "markdown",
   "metadata": {},
   "source": [
    "- While all the models appear to perform well in the training set, lets see how it works further refined and applied to the test set"
   ]
  },
  {
   "cell_type": "markdown",
   "metadata": {},
   "source": [
    "# 1st Refined Models"
   ]
  },
  {
   "cell_type": "markdown",
   "metadata": {},
   "source": [
    "### Decision Tree Refined Model"
   ]
  },
  {
   "cell_type": "code",
   "execution_count": 57,
   "metadata": {},
   "outputs": [],
   "source": [
    "##Fit decision tree, applying parameters to refine search\n",
    "dtc_param_grid = {\n",
    "    'criterion': ['gini', 'entropy'],\n",
    "    'max_depth': [None, 2, 3, 4, 5, 6],\n",
    "    'min_samples_split': [2, 5, 10],\n",
    "    'min_samples_leaf': [1, 2, 3, 4, 5, 6]\n",
    "}"
   ]
  },
  {
   "cell_type": "code",
   "execution_count": 58,
   "metadata": {
    "scrolled": true
   },
   "outputs": [
    {
     "data": {
      "text/plain": [
       "GridSearchCV(cv=3, estimator=DecisionTreeClassifier(),\n",
       "             param_grid={'criterion': ['gini', 'entropy'],\n",
       "                         'max_depth': [None, 2, 3, 4, 5, 6],\n",
       "                         'min_samples_leaf': [1, 2, 3, 4, 5, 6],\n",
       "                         'min_samples_split': [2, 5, 10]},\n",
       "             return_train_score=True)"
      ]
     },
     "execution_count": 58,
     "metadata": {},
     "output_type": "execute_result"
    }
   ],
   "source": [
    "#GridSearchCV on DTC\n",
    "dtc_grid_search = GridSearchCV(dtc, dtc_param_grid, cv=3, return_train_score=True)\n",
    "\n",
    "dtc_grid_search.fit(X_train, y_train)"
   ]
  },
  {
   "cell_type": "code",
   "execution_count": 59,
   "metadata": {},
   "outputs": [],
   "source": [
    "#Search for best estimator\n",
    "bestdtc = dtc_grid_search.best_estimator_"
   ]
  },
  {
   "cell_type": "code",
   "execution_count": 60,
   "metadata": {
    "scrolled": false
   },
   "outputs": [
    {
     "data": {
      "image/png": "[encoded data removed]",
      "text/plain": [
       "<Figure size 576x576 with 2 Axes>"
      ]
     },
     "metadata": {
      "needs_background": "light"
     },
     "output_type": "display_data"
    },
    {
     "name": "stdout",
     "output_type": "stream",
     "text": [
      "              precision    recall  f1-score   support\n",
      "\n",
      "           0       0.94      0.98      0.96       161\n",
      "           1       0.78      0.87      0.83       155\n",
      "           2       0.86      0.79      0.82       271\n",
      "           3       0.87      0.86      0.87       132\n",
      "\n",
      "    accuracy                           0.86       719\n",
      "   macro avg       0.86      0.87      0.87       719\n",
      "weighted avg       0.86      0.86      0.86       719\n",
      "\n",
      "Accuracy:86.23%\n"
     ]
    }
   ],
   "source": [
    "#Confusion matrix\n",
    "classification(\n",
    "    X_train=X_train,\n",
    "    X_test=X_test,\n",
    "    y_train=y_train,\n",
    "    y_test=y_test,\n",
    "    classifier=bestdtc)"
   ]
  },
  {
   "cell_type": "markdown",
   "metadata": {},
   "source": [
    "- Model on training set\n",
    "    - Numbers on the Bottom/Left indicate failure based off of recall metric to catch harmful content from falling into lower ESRB ratings\n",
    "    - Numbers on Top/Right indicate a game receiving a stricter rating than is required, while this could impact outreach and sales, questionable content is caught from lower ratings"
   ]
  },
  {
   "cell_type": "code",
   "execution_count": 61,
   "metadata": {},
   "outputs": [
    {
     "data": {
      "text/plain": [
       "{'criterion': 'gini',\n",
       " 'max_depth': None,\n",
       " 'min_samples_leaf': 1,\n",
       " 'min_samples_split': 5}"
      ]
     },
     "execution_count": 61,
     "metadata": {},
     "output_type": "execute_result"
    }
   ],
   "source": [
    "#search for best parameters\n",
    "dtc_grid_search.best_params_"
   ]
  },
  {
   "cell_type": "code",
   "execution_count": 62,
   "metadata": {},
   "outputs": [
    {
     "data": {
      "text/plain": [
       "0.8623087621696801"
      ]
     },
     "execution_count": 62,
     "metadata": {},
     "output_type": "execute_result"
    }
   ],
   "source": [
    "bestdtc.score(X_test,y_test)"
   ]
  },
  {
   "cell_type": "code",
   "execution_count": 63,
   "metadata": {},
   "outputs": [
    {
     "data": {
      "text/plain": [
       "0.9194510739856802"
      ]
     },
     "execution_count": 63,
     "metadata": {},
     "output_type": "execute_result"
    }
   ],
   "source": [
    "bestdtc.score(X_train,y_train)"
   ]
  },
  {
   "cell_type": "code",
   "execution_count": 64,
   "metadata": {},
   "outputs": [
    {
     "data": {
      "text/plain": [
       "<sklearn.metrics._plot.confusion_matrix.ConfusionMatrixDisplay at 0x1e94dda8908>"
      ]
     },
     "execution_count": 64,
     "metadata": {},
     "output_type": "execute_result"
    },
    {
     "data": {
      "image/png": "[encoded data removed]",
      "text/plain": [
       "<Figure size 432x288 with 2 Axes>"
      ]
     },
     "metadata": {
      "needs_background": "light"
     },
     "output_type": "display_data"
    }
   ],
   "source": [
    "plot_confusion_matrix(estimator=bestdtc, X=X_test, y_true=y_test)"
   ]
  },
  {
   "cell_type": "markdown",
   "metadata": {},
   "source": [
    "- While DTC model appears to predict E ratings, it fails to catch 80 games that should be rated M and allow them to fall into Everyone rating\n",
    "- Model appears especially bad at catching Mature content specifically"
   ]
  },
  {
   "cell_type": "markdown",
   "metadata": {},
   "source": [
    "### KNN Refined Model"
   ]
  },
  {
   "cell_type": "code",
   "execution_count": 65,
   "metadata": {},
   "outputs": [],
   "source": [
    "#Fit knn, applying parameters to refine search\n",
    "knn_param_grid = {\n",
    "    'n_neighbors': [3,5,7],\n",
    "    'weights': ['uniform','distance'],\n",
    "    'algorithm': ['ball_tree','kd_tree','brute'],\n",
    "    'p':[1,2,3]\n",
    "}"
   ]
  },
  {
   "cell_type": "code",
   "execution_count": 66,
   "metadata": {},
   "outputs": [
    {
     "data": {
      "text/plain": [
       "GridSearchCV(cv=3, estimator=KNeighborsClassifier(),\n",
       "             param_grid={'algorithm': ['ball_tree', 'kd_tree', 'brute'],\n",
       "                         'n_neighbors': [3, 5, 7], 'p': [1, 2, 3],\n",
       "                         'weights': ['uniform', 'distance']},\n",
       "             return_train_score=True)"
      ]
     },
     "execution_count": 66,
     "metadata": {},
     "output_type": "execute_result"
    }
   ],
   "source": [
    "#GridSearch on Knn\n",
    "knn_grid_search = GridSearchCV(knn, knn_param_grid, cv=3, return_train_score=True)\n",
    "\n",
    "knn_grid_search.fit(X_train, y_train)"
   ]
  },
  {
   "cell_type": "code",
   "execution_count": 67,
   "metadata": {},
   "outputs": [],
   "source": [
    "#best estimator\n",
    "bestknn = knn_grid_search.best_estimator_"
   ]
  },
  {
   "cell_type": "code",
   "execution_count": 68,
   "metadata": {},
   "outputs": [
    {
     "data": {
      "image/png": "[encoded data removed]",
      "text/plain": [
       "<Figure size 576x576 with 2 Axes>"
      ]
     },
     "metadata": {
      "needs_background": "light"
     },
     "output_type": "display_data"
    },
    {
     "name": "stdout",
     "output_type": "stream",
     "text": [
      "              precision    recall  f1-score   support\n",
      "\n",
      "           0       0.84      0.97      0.90       161\n",
      "           1       0.73      0.86      0.79       155\n",
      "           2       0.85      0.71      0.78       271\n",
      "           3       0.89      0.85      0.87       132\n",
      "\n",
      "    accuracy                           0.83       719\n",
      "   macro avg       0.83      0.85      0.83       719\n",
      "weighted avg       0.83      0.83      0.82       719\n",
      "\n",
      "Accuracy:82.61%\n"
     ]
    }
   ],
   "source": [
    "#Knn confusion matrix\n",
    "classification(\n",
    "    X_train=X_train,\n",
    "    X_test=X_test,\n",
    "    y_train=y_train,\n",
    "    y_test=y_test,\n",
    "    classifier=bestknn)"
   ]
  },
  {
   "cell_type": "markdown",
   "metadata": {},
   "source": [
    "- Model on training set\n",
    "    - Numbers on the Bottom/Left indicate failure based off of recall metric to catch harmful content from falling into lower ESRB ratings\n",
    "    - Numbers on Top/Right indicate a game receiving a stricter rating than is required, while this could impact outreach and sales, questionable content is caught from lower ratings"
   ]
  },
  {
   "cell_type": "code",
   "execution_count": 69,
   "metadata": {},
   "outputs": [
    {
     "data": {
      "text/plain": [
       "{'algorithm': 'brute', 'n_neighbors': 5, 'p': 1, 'weights': 'distance'}"
      ]
     },
     "execution_count": 69,
     "metadata": {},
     "output_type": "execute_result"
    }
   ],
   "source": [
    "#search for best parameters\n",
    "knn_grid_search.best_params_"
   ]
  },
  {
   "cell_type": "code",
   "execution_count": 70,
   "metadata": {},
   "outputs": [
    {
     "data": {
      "text/plain": [
       "0.8261474269819193"
      ]
     },
     "execution_count": 70,
     "metadata": {},
     "output_type": "execute_result"
    }
   ],
   "source": [
    "#knn model test score\n",
    "bestknn.score(X_test,y_test)"
   ]
  },
  {
   "cell_type": "code",
   "execution_count": 71,
   "metadata": {},
   "outputs": [
    {
     "data": {
      "text/plain": [
       "0.9301909307875895"
      ]
     },
     "execution_count": 71,
     "metadata": {},
     "output_type": "execute_result"
    }
   ],
   "source": [
    "#knn model training score\n",
    "bestknn.score(X_train,y_train)"
   ]
  },
  {
   "cell_type": "code",
   "execution_count": 72,
   "metadata": {},
   "outputs": [
    {
     "data": {
      "text/plain": [
       "<sklearn.metrics._plot.confusion_matrix.ConfusionMatrixDisplay at 0x1e94d7d3278>"
      ]
     },
     "execution_count": 72,
     "metadata": {},
     "output_type": "execute_result"
    },
    {
     "data": {
      "image/png": "[encoded data removed]",
      "text/plain": [
       "<Figure size 432x288 with 2 Axes>"
      ]
     },
     "metadata": {
      "needs_background": "light"
     },
     "output_type": "display_data"
    }
   ],
   "source": [
    "#confusion matrix results for trained data against test\n",
    "plot_confusion_matrix(estimator=bestknn, X=X_test, y_true=y_test)"
   ]
  },
  {
   "cell_type": "markdown",
   "metadata": {},
   "source": [
    "- While KNN model appears to predict E ratings, it fails to catch 80 games that should be rated M and allow them to fall into Everyone rating\n",
    "- Model appears especially bad at catching Mature content also"
   ]
  },
  {
   "cell_type": "markdown",
   "metadata": {},
   "source": [
    "### Random Forest Refined"
   ]
  },
  {
   "cell_type": "code",
   "execution_count": 73,
   "metadata": {},
   "outputs": [],
   "source": [
    "##Fit random forest, applying parameters to refine search\n",
    "rfc_param_grid = {\n",
    "    'n_estimators': [50,100],\n",
    "    'criterion': ['gini','entropy'],\n",
    "    'max_depth': [None,3, 5, 7],\n",
    "    'min_samples_split': [1, 2, 4, 6],\n",
    "    'min_samples_leaf': [1,2,3],\n",
    "    'max_features': [None,'sqrt','log2'],\n",
    "    'random_state': [7],\n",
    "    \n",
    "}"
   ]
  },
  {
   "cell_type": "code",
   "execution_count": 74,
   "metadata": {
    "scrolled": true
   },
   "outputs": [
    {
     "data": {
      "text/plain": [
       "GridSearchCV(cv=3, estimator=RandomForestClassifier(), n_jobs=10,\n",
       "             param_grid={'criterion': ['gini', 'entropy'],\n",
       "                         'max_depth': [None, 3, 5, 7],\n",
       "                         'max_features': [None, 'sqrt', 'log2'],\n",
       "                         'min_samples_leaf': [1, 2, 3],\n",
       "                         'min_samples_split': [1, 2, 4, 6],\n",
       "                         'n_estimators': [50, 100], 'random_state': [7]},\n",
       "             return_train_score=True)"
      ]
     },
     "execution_count": 74,
     "metadata": {},
     "output_type": "execute_result"
    }
   ],
   "source": [
    "#Gridsearch on rfc\n",
    "rfc_grid_search = GridSearchCV(rfc, rfc_param_grid, cv=3,n_jobs=10, return_train_score=True)\n",
    "\n",
    "rfc_grid_search.fit(X_train, y_train)"
   ]
  },
  {
   "cell_type": "code",
   "execution_count": 75,
   "metadata": {},
   "outputs": [],
   "source": [
    "#best estimator\n",
    "bestrfc = rfc_grid_search.best_estimator_"
   ]
  },
  {
   "cell_type": "code",
   "execution_count": 76,
   "metadata": {},
   "outputs": [
    {
     "data": {
      "image/png": "[encoded data removed]",
      "text/plain": [
       "<Figure size 576x576 with 2 Axes>"
      ]
     },
     "metadata": {
      "needs_background": "light"
     },
     "output_type": "display_data"
    },
    {
     "name": "stdout",
     "output_type": "stream",
     "text": [
      "              precision    recall  f1-score   support\n",
      "\n",
      "           0       0.90      0.97      0.93       161\n",
      "           1       0.78      0.84      0.81       155\n",
      "           2       0.87      0.79      0.83       271\n",
      "           3       0.89      0.90      0.89       132\n",
      "\n",
      "    accuracy                           0.86       719\n",
      "   macro avg       0.86      0.87      0.87       719\n",
      "weighted avg       0.86      0.86      0.86       719\n",
      "\n",
      "Accuracy:85.95%\n"
     ]
    }
   ],
   "source": [
    "#rfc confusion matrix\n",
    "classification(\n",
    "    X_train=X_train,\n",
    "    X_test=X_test,\n",
    "    y_train=y_train,\n",
    "    y_test=y_test,\n",
    "    classifier=bestrfc)"
   ]
  },
  {
   "cell_type": "markdown",
   "metadata": {},
   "source": [
    "- Model on training set\n",
    "    - Numbers on the Bottom/Left indicate failure based off of recall metric to catch harmful content from falling into lower ESRB ratings\n",
    "    - Numbers on Top/Right indicate a game receiving a stricter rating than is required, while this could impact outreach and sales, questionable content is caught from lower ratings"
   ]
  },
  {
   "cell_type": "code",
   "execution_count": 77,
   "metadata": {},
   "outputs": [
    {
     "data": {
      "text/plain": [
       "{'criterion': 'gini',\n",
       " 'max_depth': None,\n",
       " 'max_features': 'sqrt',\n",
       " 'min_samples_leaf': 1,\n",
       " 'min_samples_split': 2,\n",
       " 'n_estimators': 100,\n",
       " 'random_state': 7}"
      ]
     },
     "execution_count": 77,
     "metadata": {},
     "output_type": "execute_result"
    }
   ],
   "source": [
    "#best parameter\n",
    "rfc_grid_search.best_params_"
   ]
  },
  {
   "cell_type": "code",
   "execution_count": 78,
   "metadata": {},
   "outputs": [
    {
     "data": {
      "text/plain": [
       "0.8595271210013908"
      ]
     },
     "execution_count": 78,
     "metadata": {},
     "output_type": "execute_result"
    }
   ],
   "source": [
    "#rfc model test score\n",
    "bestrfc.score(X_test,y_test)"
   ]
  },
  {
   "cell_type": "code",
   "execution_count": 79,
   "metadata": {},
   "outputs": [
    {
     "data": {
      "text/plain": [
       "0.931980906921241"
      ]
     },
     "execution_count": 79,
     "metadata": {},
     "output_type": "execute_result"
    }
   ],
   "source": [
    "#rfc model training score\n",
    "bestrfc.score(X_train,y_train)"
   ]
  },
  {
   "cell_type": "code",
   "execution_count": 80,
   "metadata": {},
   "outputs": [
    {
     "data": {
      "text/plain": [
       "<sklearn.metrics._plot.confusion_matrix.ConfusionMatrixDisplay at 0x1e94d5c5d30>"
      ]
     },
     "execution_count": 80,
     "metadata": {},
     "output_type": "execute_result"
    },
    {
     "data": {
      "image/png": "[encoded data removed]",
      "text/plain": [
       "<Figure size 432x288 with 2 Axes>"
      ]
     },
     "metadata": {
      "needs_background": "light"
     },
     "output_type": "display_data"
    }
   ],
   "source": [
    "#confusion matrix results for trained data against test\n",
    "plot_confusion_matrix(estimator=bestrfc, X=X_test, y_true=y_test)"
   ]
  },
  {
   "cell_type": "markdown",
   "metadata": {},
   "source": [
    "- While RFC model appears to predict E ratings, it fails to catch 80 games that should be rated M and allow them to fall into Everyone rating\n",
    "- Model appears especially bad at catching Mature content specifically"
   ]
  },
  {
   "cell_type": "markdown",
   "metadata": {},
   "source": [
    "# 2nd Refined Models"
   ]
  },
  {
   "cell_type": "markdown",
   "metadata": {},
   "source": [
    "### Decision Tree Refined"
   ]
  },
  {
   "cell_type": "code",
   "execution_count": 81,
   "metadata": {},
   "outputs": [],
   "source": [
    "##Fit decision tree, applying parameters to refine search\n",
    "dtc_para_grid = {\n",
    "    'criterion': 'gini',\n",
    "    'max_depth': None,\n",
    "    'min_samples_leaf': 1,\n",
    "    'min_samples_split': 2\n",
    "}"
   ]
  },
  {
   "cell_type": "code",
   "execution_count": 82,
   "metadata": {},
   "outputs": [],
   "source": [
    "#Search for best estimator\n",
    "bestdtc = dtc_grid_search.best_estimator_"
   ]
  },
  {
   "cell_type": "code",
   "execution_count": 83,
   "metadata": {
    "scrolled": true
   },
   "outputs": [
    {
     "data": {
      "text/plain": [
       "GridSearchCV(cv=3, estimator=DecisionTreeClassifier(),\n",
       "             param_grid={'criterion': ['gini', 'entropy'],\n",
       "                         'max_depth': [None, 2, 3, 4, 5, 6],\n",
       "                         'min_samples_leaf': [1, 2, 3, 4, 5, 6],\n",
       "                         'min_samples_split': [2, 5, 10]},\n",
       "             return_train_score=True)"
      ]
     },
     "execution_count": 83,
     "metadata": {},
     "output_type": "execute_result"
    }
   ],
   "source": [
    "#GridSearchCV on DTC\n",
    "dtc_grid_search = GridSearchCV(dtc, dtc_param_grid, cv=3, return_train_score=True)\n",
    "\n",
    "dtc_grid_search.fit(X_train, y_train)"
   ]
  },
  {
   "cell_type": "code",
   "execution_count": 84,
   "metadata": {},
   "outputs": [
    {
     "data": {
      "image/png": "[encoded data removed]",
      "text/plain": [
       "<Figure size 576x576 with 2 Axes>"
      ]
     },
     "metadata": {
      "needs_background": "light"
     },
     "output_type": "display_data"
    },
    {
     "name": "stdout",
     "output_type": "stream",
     "text": [
      "              precision    recall  f1-score   support\n",
      "\n",
      "           0       0.94      0.98      0.96       161\n",
      "           1       0.78      0.87      0.83       155\n",
      "           2       0.86      0.79      0.82       271\n",
      "           3       0.87      0.86      0.87       132\n",
      "\n",
      "    accuracy                           0.86       719\n",
      "   macro avg       0.86      0.87      0.87       719\n",
      "weighted avg       0.86      0.86      0.86       719\n",
      "\n",
      "Accuracy:86.23%\n"
     ]
    }
   ],
   "source": [
    "#Confusion matrix\n",
    "classification(\n",
    "    X_train=X_train,\n",
    "    X_test=X_test,\n",
    "    y_train=y_train,\n",
    "    y_test=y_test,\n",
    "    classifier=bestdtc)"
   ]
  },
  {
   "cell_type": "markdown",
   "metadata": {},
   "source": [
    "- Model on training set\n",
    "    - Numbers on the Bottom/Left indicate failure based off of recall metric to catch harmful content from falling into lower ESRB ratings\n",
    "    - Numbers on Top/Right indicate a game receiving a stricter rating than is required, while this could impact outreach and sales, questionable content is caught from lower ratings"
   ]
  },
  {
   "cell_type": "code",
   "execution_count": 85,
   "metadata": {},
   "outputs": [
    {
     "data": {
      "text/plain": [
       "0.8623087621696801"
      ]
     },
     "execution_count": 85,
     "metadata": {},
     "output_type": "execute_result"
    }
   ],
   "source": [
    "#dtc model test score\n",
    "bestdtc.score(X_test,y_test)"
   ]
  },
  {
   "cell_type": "code",
   "execution_count": 86,
   "metadata": {},
   "outputs": [
    {
     "data": {
      "text/plain": [
       "0.9194510739856802"
      ]
     },
     "execution_count": 86,
     "metadata": {},
     "output_type": "execute_result"
    }
   ],
   "source": [
    "#dtc model training score\n",
    "bestdtc.score(X_train,y_train)"
   ]
  },
  {
   "cell_type": "code",
   "execution_count": 87,
   "metadata": {},
   "outputs": [
    {
     "data": {
      "text/plain": [
       "<sklearn.metrics._plot.confusion_matrix.ConfusionMatrixDisplay at 0x1e94da19f28>"
      ]
     },
     "execution_count": 87,
     "metadata": {},
     "output_type": "execute_result"
    },
    {
     "data": {
      "image/png": "[encoded data removed]",
      "text/plain": [
       "<Figure size 432x288 with 2 Axes>"
      ]
     },
     "metadata": {
      "needs_background": "light"
     },
     "output_type": "display_data"
    }
   ],
   "source": [
    "#confusion matrix results for trained data against test\n",
    "plot_confusion_matrix(estimator=bestdtc, X=X_test, y_true=y_test)"
   ]
  },
  {
   "cell_type": "markdown",
   "metadata": {},
   "source": [
    "### KNN Refined Model"
   ]
  },
  {
   "cell_type": "code",
   "execution_count": 88,
   "metadata": {},
   "outputs": [],
   "source": [
    "##Fit knn, applying parameters to refine search\n",
    "knn_para_grid = {\n",
    "    'algorithm': 'brute',\n",
    "    'n_neighbors': 5,\n",
    "    'p': 1,\n",
    "    'weights': 'distance'\n",
    "}"
   ]
  },
  {
   "cell_type": "code",
   "execution_count": 89,
   "metadata": {},
   "outputs": [
    {
     "data": {
      "text/plain": [
       "GridSearchCV(cv=3, estimator=KNeighborsClassifier(),\n",
       "             param_grid={'algorithm': ['ball_tree', 'kd_tree', 'brute'],\n",
       "                         'n_neighbors': [3, 5, 7], 'p': [1, 2, 3],\n",
       "                         'weights': ['uniform', 'distance']},\n",
       "             return_train_score=True)"
      ]
     },
     "execution_count": 89,
     "metadata": {},
     "output_type": "execute_result"
    }
   ],
   "source": [
    "#GridSearch on Knn\n",
    "knn_grid_search = GridSearchCV(knn, knn_param_grid, cv=3, return_train_score=True)\n",
    "\n",
    "knn_grid_search.fit(X_train, y_train)"
   ]
  },
  {
   "cell_type": "code",
   "execution_count": 90,
   "metadata": {},
   "outputs": [],
   "source": [
    "#Search for best estimator\n",
    "bestknn = dtc_grid_search.best_estimator_"
   ]
  },
  {
   "cell_type": "code",
   "execution_count": 91,
   "metadata": {},
   "outputs": [
    {
     "data": {
      "image/png": "[encoded data removed]",
      "text/plain": [
       "<Figure size 576x576 with 2 Axes>"
      ]
     },
     "metadata": {
      "needs_background": "light"
     },
     "output_type": "display_data"
    },
    {
     "name": "stdout",
     "output_type": "stream",
     "text": [
      "              precision    recall  f1-score   support\n",
      "\n",
      "           0       0.93      0.97      0.95       161\n",
      "           1       0.78      0.87      0.82       155\n",
      "           2       0.86      0.78      0.82       271\n",
      "           3       0.86      0.86      0.86       132\n",
      "\n",
      "    accuracy                           0.86       719\n",
      "   macro avg       0.86      0.87      0.86       719\n",
      "weighted avg       0.86      0.86      0.86       719\n",
      "\n",
      "Accuracy:85.81%\n"
     ]
    }
   ],
   "source": [
    "#Knn confusion matrix\n",
    "classification(\n",
    "    X_train=X_train,\n",
    "    X_test=X_test,\n",
    "    y_train=y_train,\n",
    "    y_test=y_test,\n",
    "    classifier=bestknn)"
   ]
  },
  {
   "cell_type": "markdown",
   "metadata": {},
   "source": [
    "- Model on training set\n",
    "    - Numbers on the Bottom/Left indicate failure based off of recall metric to catch harmful content from falling into lower ESRB ratings\n",
    "    - Numbers on Top/Right indicate a game receiving a stricter rating than is required, while this could impact outreach and sales, questionable content is caught from lower ratings"
   ]
  },
  {
   "cell_type": "code",
   "execution_count": 92,
   "metadata": {},
   "outputs": [
    {
     "data": {
      "text/plain": [
       "0.8595271210013908"
      ]
     },
     "execution_count": 92,
     "metadata": {},
     "output_type": "execute_result"
    }
   ],
   "source": [
    "#rfc model test score\n",
    "bestrfc.score(X_test,y_test)"
   ]
  },
  {
   "cell_type": "code",
   "execution_count": 93,
   "metadata": {},
   "outputs": [
    {
     "data": {
      "text/plain": [
       "0.931980906921241"
      ]
     },
     "execution_count": 93,
     "metadata": {},
     "output_type": "execute_result"
    }
   ],
   "source": [
    "#rfc model training score\n",
    "bestrfc.score(X_train,y_train)"
   ]
  },
  {
   "cell_type": "code",
   "execution_count": 94,
   "metadata": {},
   "outputs": [
    {
     "data": {
      "text/plain": [
       "<sklearn.metrics._plot.confusion_matrix.ConfusionMatrixDisplay at 0x1e94c964748>"
      ]
     },
     "execution_count": 94,
     "metadata": {},
     "output_type": "execute_result"
    },
    {
     "data": {
      "image/png": "[encoded data removed]",
      "text/plain": [
       "<Figure size 432x288 with 2 Axes>"
      ]
     },
     "metadata": {
      "needs_background": "light"
     },
     "output_type": "display_data"
    }
   ],
   "source": [
    "#confusion matrix results for trained data against test\n",
    "plot_confusion_matrix(estimator=bestknn, X=X_test, y_true=y_test)"
   ]
  },
  {
   "cell_type": "markdown",
   "metadata": {},
   "source": [
    "### Random Forest Refined"
   ]
  },
  {
   "cell_type": "code",
   "execution_count": 95,
   "metadata": {},
   "outputs": [],
   "source": [
    "##Fit rfc, applying parameters to refine search\n",
    "rfc_para_grid = {\n",
    "    'criterion':'gini',\n",
    "    'max_depth':None,\n",
    "    'max_features':'sqrt',\n",
    "    'min_samples_leaf':1,\n",
    "    'min_samples_split':2,\n",
    "    'n_estimators':100,\n",
    "    'random_state':7\n",
    "}"
   ]
  },
  {
   "cell_type": "code",
   "execution_count": 96,
   "metadata": {},
   "outputs": [
    {
     "data": {
      "text/plain": [
       "GridSearchCV(cv=3, estimator=RandomForestClassifier(), n_jobs=10,\n",
       "             param_grid={'criterion': ['gini', 'entropy'],\n",
       "                         'max_depth': [None, 3, 5, 7],\n",
       "                         'max_features': [None, 'sqrt', 'log2'],\n",
       "                         'min_samples_leaf': [1, 2, 3],\n",
       "                         'min_samples_split': [1, 2, 4, 6],\n",
       "                         'n_estimators': [50, 100], 'random_state': [7]},\n",
       "             return_train_score=True)"
      ]
     },
     "execution_count": 96,
     "metadata": {},
     "output_type": "execute_result"
    }
   ],
   "source": [
    "#GridSearch on rfc\n",
    "rfc_grid_search = GridSearchCV(rfc, rfc_param_grid, cv=3,n_jobs=10, return_train_score=True)\n",
    "\n",
    "rfc_grid_search.fit(X_train, y_train)"
   ]
  },
  {
   "cell_type": "code",
   "execution_count": 97,
   "metadata": {},
   "outputs": [],
   "source": [
    "#best estimator\n",
    "bestrfc = rfc_grid_search.best_estimator_"
   ]
  },
  {
   "cell_type": "code",
   "execution_count": 98,
   "metadata": {},
   "outputs": [
    {
     "data": {
      "image/png": "[encoded data removed]",
      "text/plain": [
       "<Figure size 576x576 with 2 Axes>"
      ]
     },
     "metadata": {
      "needs_background": "light"
     },
     "output_type": "display_data"
    },
    {
     "name": "stdout",
     "output_type": "stream",
     "text": [
      "              precision    recall  f1-score   support\n",
      "\n",
      "           0       0.90      0.97      0.93       161\n",
      "           1       0.78      0.84      0.81       155\n",
      "           2       0.87      0.79      0.83       271\n",
      "           3       0.89      0.90      0.89       132\n",
      "\n",
      "    accuracy                           0.86       719\n",
      "   macro avg       0.86      0.87      0.87       719\n",
      "weighted avg       0.86      0.86      0.86       719\n",
      "\n",
      "Accuracy:85.95%\n"
     ]
    }
   ],
   "source": [
    "#rfc confusion matrix\n",
    "classification(\n",
    "    X_train=X_train,\n",
    "    X_test=X_test,\n",
    "    y_train=y_train,\n",
    "    y_test=y_test,\n",
    "    classifier=bestrfc)"
   ]
  },
  {
   "cell_type": "markdown",
   "metadata": {},
   "source": [
    "- Model on training set\n",
    "    - Numbers on the Bottom/Left indicate failure based off of recall metric to catch harmful content from falling into lower ESRB ratings\n",
    "    - Numbers on Top/Right indicate a game receiving a stricter rating than is required, while this could impact outreach and sales, questionable content is caught from lower ratings"
   ]
  },
  {
   "cell_type": "code",
   "execution_count": 99,
   "metadata": {},
   "outputs": [
    {
     "data": {
      "text/plain": [
       "0.8595271210013908"
      ]
     },
     "execution_count": 99,
     "metadata": {},
     "output_type": "execute_result"
    }
   ],
   "source": [
    "#rfc model test score\n",
    "bestrfc.score(X_test,y_test)"
   ]
  },
  {
   "cell_type": "code",
   "execution_count": 100,
   "metadata": {},
   "outputs": [
    {
     "data": {
      "text/plain": [
       "0.931980906921241"
      ]
     },
     "execution_count": 100,
     "metadata": {},
     "output_type": "execute_result"
    }
   ],
   "source": [
    "#rfc model training score\n",
    "bestrfc.score(X_train,y_train)"
   ]
  },
  {
   "cell_type": "code",
   "execution_count": 101,
   "metadata": {},
   "outputs": [
    {
     "data": {
      "text/plain": [
       "<sklearn.metrics._plot.confusion_matrix.ConfusionMatrixDisplay at 0x1e94c9313c8>"
      ]
     },
     "execution_count": 101,
     "metadata": {},
     "output_type": "execute_result"
    },
    {
     "data": {
      "image/png": "[encoded data removed]",
      "text/plain": [
       "<Figure size 432x288 with 2 Axes>"
      ]
     },
     "metadata": {
      "needs_background": "light"
     },
     "output_type": "display_data"
    }
   ],
   "source": [
    "#confusion matrix results for trained data against test\n",
    "plot_confusion_matrix(estimator=bestrfc, X=X_test, y_true=y_test)"
   ]
  },
  {
   "cell_type": "markdown",
   "metadata": {},
   "source": [
    "# INTERPRET"
   ]
  },
  {
   "cell_type": "markdown",
   "metadata": {},
   "source": [
    "## Decision Tree Feature Importances"
   ]
  },
  {
   "cell_type": "code",
   "execution_count": 102,
   "metadata": {},
   "outputs": [
    {
     "data": {
      "text/plain": [
       "array([0.02415117, 0.01458561, 0.01106757, 0.05476553, 0.07219655,\n",
       "       0.00706908, 0.02080539, 0.0134105 , 0.10087101, 0.01636658,\n",
       "       0.03178803, 0.01220953, 0.00558211, 0.03081489, 0.00051255,\n",
       "       0.06633802, 0.01025127, 0.01463189, 0.01831703, 0.01757942,\n",
       "       0.15212641, 0.00425557, 0.00461514, 0.00793876, 0.02399549,\n",
       "       0.02300208, 0.14266418, 0.02283471, 0.02988209, 0.0169225 ,\n",
       "       0.00422642, 0.02422293])"
      ]
     },
     "execution_count": 102,
     "metadata": {},
     "output_type": "execute_result"
    }
   ],
   "source": [
    "#What features carry the most weight\n",
    "dtc.feature_importances_"
   ]
  },
  {
   "cell_type": "code",
   "execution_count": 103,
   "metadata": {},
   "outputs": [
    {
     "data": {
      "text/html": [
       "<div>\n",
       "<style scoped>\n",
       "    .dataframe tbody tr th:only-of-type {\n",
       "        vertical-align: middle;\n",
       "    }\n",
       "\n",
       "    .dataframe tbody tr th {\n",
       "        vertical-align: top;\n",
       "    }\n",
       "\n",
       "    .dataframe thead th {\n",
       "        text-align: right;\n",
       "    }\n",
       "</style>\n",
       "<table border=\"1\" class=\"dataframe\">\n",
       "  <thead>\n",
       "    <tr style=\"text-align: right;\">\n",
       "      <th></th>\n",
       "      <th>feature</th>\n",
       "      <th>importance</th>\n",
       "    </tr>\n",
       "  </thead>\n",
       "  <tbody>\n",
       "    <tr>\n",
       "      <th>14</th>\n",
       "      <td>mild_cartoon_violence</td>\n",
       "      <td>0.000513</td>\n",
       "    </tr>\n",
       "    <tr>\n",
       "      <th>30</th>\n",
       "      <td>use_of_drugs_and_alcohol</td>\n",
       "      <td>0.004226</td>\n",
       "    </tr>\n",
       "    <tr>\n",
       "      <th>21</th>\n",
       "      <td>nudity</td>\n",
       "      <td>0.004256</td>\n",
       "    </tr>\n",
       "    <tr>\n",
       "      <th>22</th>\n",
       "      <td>partial_nudity</td>\n",
       "      <td>0.004615</td>\n",
       "    </tr>\n",
       "    <tr>\n",
       "      <th>12</th>\n",
       "      <td>mature_humor</td>\n",
       "      <td>0.005582</td>\n",
       "    </tr>\n",
       "    <tr>\n",
       "      <th>5</th>\n",
       "      <td>cartoon_violence</td>\n",
       "      <td>0.007069</td>\n",
       "    </tr>\n",
       "    <tr>\n",
       "      <th>23</th>\n",
       "      <td>sexual_content</td>\n",
       "      <td>0.007939</td>\n",
       "    </tr>\n",
       "    <tr>\n",
       "      <th>16</th>\n",
       "      <td>mild_language</td>\n",
       "      <td>0.010251</td>\n",
       "    </tr>\n",
       "    <tr>\n",
       "      <th>2</th>\n",
       "      <td>animated_blood</td>\n",
       "      <td>0.011068</td>\n",
       "    </tr>\n",
       "    <tr>\n",
       "      <th>11</th>\n",
       "      <td>lyrics</td>\n",
       "      <td>0.012210</td>\n",
       "    </tr>\n",
       "    <tr>\n",
       "      <th>7</th>\n",
       "      <td>drug_reference</td>\n",
       "      <td>0.013411</td>\n",
       "    </tr>\n",
       "    <tr>\n",
       "      <th>1</th>\n",
       "      <td>alcohol_reference</td>\n",
       "      <td>0.014586</td>\n",
       "    </tr>\n",
       "    <tr>\n",
       "      <th>17</th>\n",
       "      <td>mild_lyrics</td>\n",
       "      <td>0.014632</td>\n",
       "    </tr>\n",
       "    <tr>\n",
       "      <th>9</th>\n",
       "      <td>intense_violence</td>\n",
       "      <td>0.016367</td>\n",
       "    </tr>\n",
       "    <tr>\n",
       "      <th>29</th>\n",
       "      <td>use_of_alcohol</td>\n",
       "      <td>0.016922</td>\n",
       "    </tr>\n",
       "    <tr>\n",
       "      <th>19</th>\n",
       "      <td>mild_violence</td>\n",
       "      <td>0.017579</td>\n",
       "    </tr>\n",
       "    <tr>\n",
       "      <th>18</th>\n",
       "      <td>mild_suggestive_themes</td>\n",
       "      <td>0.018317</td>\n",
       "    </tr>\n",
       "    <tr>\n",
       "      <th>6</th>\n",
       "      <td>crude_humor</td>\n",
       "      <td>0.020805</td>\n",
       "    </tr>\n",
       "    <tr>\n",
       "      <th>27</th>\n",
       "      <td>strong_sexual_content</td>\n",
       "      <td>0.022835</td>\n",
       "    </tr>\n",
       "    <tr>\n",
       "      <th>25</th>\n",
       "      <td>simulated_gambling</td>\n",
       "      <td>0.023002</td>\n",
       "    </tr>\n",
       "    <tr>\n",
       "      <th>24</th>\n",
       "      <td>sexual_themes</td>\n",
       "      <td>0.023995</td>\n",
       "    </tr>\n",
       "    <tr>\n",
       "      <th>0</th>\n",
       "      <td>console</td>\n",
       "      <td>0.024151</td>\n",
       "    </tr>\n",
       "    <tr>\n",
       "      <th>31</th>\n",
       "      <td>violence</td>\n",
       "      <td>0.024223</td>\n",
       "    </tr>\n",
       "    <tr>\n",
       "      <th>28</th>\n",
       "      <td>suggestive_themes</td>\n",
       "      <td>0.029882</td>\n",
       "    </tr>\n",
       "    <tr>\n",
       "      <th>13</th>\n",
       "      <td>mild_blood</td>\n",
       "      <td>0.030815</td>\n",
       "    </tr>\n",
       "    <tr>\n",
       "      <th>10</th>\n",
       "      <td>language</td>\n",
       "      <td>0.031788</td>\n",
       "    </tr>\n",
       "    <tr>\n",
       "      <th>3</th>\n",
       "      <td>blood</td>\n",
       "      <td>0.054766</td>\n",
       "    </tr>\n",
       "    <tr>\n",
       "      <th>15</th>\n",
       "      <td>mild_fantasy_violence</td>\n",
       "      <td>0.066338</td>\n",
       "    </tr>\n",
       "    <tr>\n",
       "      <th>4</th>\n",
       "      <td>blood_and_gore</td>\n",
       "      <td>0.072197</td>\n",
       "    </tr>\n",
       "    <tr>\n",
       "      <th>8</th>\n",
       "      <td>fantasy_violence</td>\n",
       "      <td>0.100871</td>\n",
       "    </tr>\n",
       "    <tr>\n",
       "      <th>26</th>\n",
       "      <td>strong_janguage</td>\n",
       "      <td>0.142664</td>\n",
       "    </tr>\n",
       "    <tr>\n",
       "      <th>20</th>\n",
       "      <td>no_descriptors</td>\n",
       "      <td>0.152126</td>\n",
       "    </tr>\n",
       "  </tbody>\n",
       "</table>\n",
       "</div>"
      ],
      "text/plain": [
       "                     feature  importance\n",
       "14     mild_cartoon_violence    0.000513\n",
       "30  use_of_drugs_and_alcohol    0.004226\n",
       "21                    nudity    0.004256\n",
       "22            partial_nudity    0.004615\n",
       "12              mature_humor    0.005582\n",
       "5           cartoon_violence    0.007069\n",
       "23            sexual_content    0.007939\n",
       "16             mild_language    0.010251\n",
       "2             animated_blood    0.011068\n",
       "11                    lyrics    0.012210\n",
       "7             drug_reference    0.013411\n",
       "1          alcohol_reference    0.014586\n",
       "17               mild_lyrics    0.014632\n",
       "9           intense_violence    0.016367\n",
       "29            use_of_alcohol    0.016922\n",
       "19             mild_violence    0.017579\n",
       "18    mild_suggestive_themes    0.018317\n",
       "6                crude_humor    0.020805\n",
       "27     strong_sexual_content    0.022835\n",
       "25        simulated_gambling    0.023002\n",
       "24             sexual_themes    0.023995\n",
       "0                    console    0.024151\n",
       "31                  violence    0.024223\n",
       "28         suggestive_themes    0.029882\n",
       "13                mild_blood    0.030815\n",
       "10                  language    0.031788\n",
       "3                      blood    0.054766\n",
       "15     mild_fantasy_violence    0.066338\n",
       "4             blood_and_gore    0.072197\n",
       "8           fantasy_violence    0.100871\n",
       "26           strong_janguage    0.142664\n",
       "20            no_descriptors    0.152126"
      ]
     },
     "execution_count": 103,
     "metadata": {},
     "output_type": "execute_result"
    }
   ],
   "source": [
    "Feature_Importances=pd.DataFrame({\"feature\":X_train.columns,\"importance\":dtc.feature_importances_})\n",
    "Feature_Importances.sort_values(\"importance\")"
   ]
  },
  {
   "cell_type": "markdown",
   "metadata": {},
   "source": [
    "## Random Forest Feature Importances"
   ]
  },
  {
   "cell_type": "code",
   "execution_count": 104,
   "metadata": {},
   "outputs": [
    {
     "ename": "NotFittedError",
     "evalue": "This RandomForestClassifier instance is not fitted yet. Call 'fit' with appropriate arguments before using this estimator.",
     "output_type": "error",
     "traceback": [
      "\u001b[1;31m---------------------------------------------------------------------------\u001b[0m",
      "\u001b[1;31mNotFittedError\u001b[0m                            Traceback (most recent call last)",
      "\u001b[1;32m<ipython-input-104-160ab4b36c92>\u001b[0m in \u001b[0;36m<module>\u001b[1;34m\u001b[0m\n\u001b[0;32m      1\u001b[0m \u001b[1;31m#What features carry the most weight\u001b[0m\u001b[1;33m\u001b[0m\u001b[1;33m\u001b[0m\u001b[1;33m\u001b[0m\u001b[0m\n\u001b[1;32m----> 2\u001b[1;33m \u001b[0mrfc\u001b[0m\u001b[1;33m.\u001b[0m\u001b[0mfeature_importances_\u001b[0m\u001b[1;33m\u001b[0m\u001b[1;33m\u001b[0m\u001b[0m\n\u001b[0m",
      "\u001b[1;32m~\\anaconda3\\envs\\learn-env\\lib\\site-packages\\sklearn\\ensemble\\_forest.py\u001b[0m in \u001b[0;36mfeature_importances_\u001b[1;34m(self)\u001b[0m\n\u001b[0;32m    443\u001b[0m             \u001b[0marray\u001b[0m \u001b[0mof\u001b[0m \u001b[0mzeros\u001b[0m\u001b[1;33m.\u001b[0m\u001b[1;33m\u001b[0m\u001b[1;33m\u001b[0m\u001b[0m\n\u001b[0;32m    444\u001b[0m         \"\"\"\n\u001b[1;32m--> 445\u001b[1;33m         \u001b[0mcheck_is_fitted\u001b[0m\u001b[1;33m(\u001b[0m\u001b[0mself\u001b[0m\u001b[1;33m)\u001b[0m\u001b[1;33m\u001b[0m\u001b[1;33m\u001b[0m\u001b[0m\n\u001b[0m\u001b[0;32m    446\u001b[0m \u001b[1;33m\u001b[0m\u001b[0m\n\u001b[0;32m    447\u001b[0m         all_importances = Parallel(n_jobs=self.n_jobs,\n",
      "\u001b[1;32m~\\anaconda3\\envs\\learn-env\\lib\\site-packages\\sklearn\\utils\\validation.py\u001b[0m in \u001b[0;36minner_f\u001b[1;34m(*args, **kwargs)\u001b[0m\n\u001b[0;32m     61\u001b[0m             \u001b[0mextra_args\u001b[0m \u001b[1;33m=\u001b[0m \u001b[0mlen\u001b[0m\u001b[1;33m(\u001b[0m\u001b[0margs\u001b[0m\u001b[1;33m)\u001b[0m \u001b[1;33m-\u001b[0m \u001b[0mlen\u001b[0m\u001b[1;33m(\u001b[0m\u001b[0mall_args\u001b[0m\u001b[1;33m)\u001b[0m\u001b[1;33m\u001b[0m\u001b[1;33m\u001b[0m\u001b[0m\n\u001b[0;32m     62\u001b[0m             \u001b[1;32mif\u001b[0m \u001b[0mextra_args\u001b[0m \u001b[1;33m<=\u001b[0m \u001b[1;36m0\u001b[0m\u001b[1;33m:\u001b[0m\u001b[1;33m\u001b[0m\u001b[1;33m\u001b[0m\u001b[0m\n\u001b[1;32m---> 63\u001b[1;33m                 \u001b[1;32mreturn\u001b[0m \u001b[0mf\u001b[0m\u001b[1;33m(\u001b[0m\u001b[1;33m*\u001b[0m\u001b[0margs\u001b[0m\u001b[1;33m,\u001b[0m \u001b[1;33m**\u001b[0m\u001b[0mkwargs\u001b[0m\u001b[1;33m)\u001b[0m\u001b[1;33m\u001b[0m\u001b[1;33m\u001b[0m\u001b[0m\n\u001b[0m\u001b[0;32m     64\u001b[0m \u001b[1;33m\u001b[0m\u001b[0m\n\u001b[0;32m     65\u001b[0m             \u001b[1;31m# extra_args > 0\u001b[0m\u001b[1;33m\u001b[0m\u001b[1;33m\u001b[0m\u001b[1;33m\u001b[0m\u001b[0m\n",
      "\u001b[1;32m~\\anaconda3\\envs\\learn-env\\lib\\site-packages\\sklearn\\utils\\validation.py\u001b[0m in \u001b[0;36mcheck_is_fitted\u001b[1;34m(estimator, attributes, msg, all_or_any)\u001b[0m\n\u001b[0;32m   1039\u001b[0m \u001b[1;33m\u001b[0m\u001b[0m\n\u001b[0;32m   1040\u001b[0m     \u001b[1;32mif\u001b[0m \u001b[1;32mnot\u001b[0m \u001b[0mattrs\u001b[0m\u001b[1;33m:\u001b[0m\u001b[1;33m\u001b[0m\u001b[1;33m\u001b[0m\u001b[0m\n\u001b[1;32m-> 1041\u001b[1;33m         \u001b[1;32mraise\u001b[0m \u001b[0mNotFittedError\u001b[0m\u001b[1;33m(\u001b[0m\u001b[0mmsg\u001b[0m \u001b[1;33m%\u001b[0m \u001b[1;33m{\u001b[0m\u001b[1;34m'name'\u001b[0m\u001b[1;33m:\u001b[0m \u001b[0mtype\u001b[0m\u001b[1;33m(\u001b[0m\u001b[0mestimator\u001b[0m\u001b[1;33m)\u001b[0m\u001b[1;33m.\u001b[0m\u001b[0m__name__\u001b[0m\u001b[1;33m}\u001b[0m\u001b[1;33m)\u001b[0m\u001b[1;33m\u001b[0m\u001b[1;33m\u001b[0m\u001b[0m\n\u001b[0m\u001b[0;32m   1042\u001b[0m \u001b[1;33m\u001b[0m\u001b[0m\n\u001b[0;32m   1043\u001b[0m \u001b[1;33m\u001b[0m\u001b[0m\n",
      "\u001b[1;31mNotFittedError\u001b[0m: This RandomForestClassifier instance is not fitted yet. Call 'fit' with appropriate arguments before using this estimator."
     ]
    }
   ],
   "source": [
    "#What features carry the most weight\n",
    "rfc.feature_importances_"
   ]
  },
  {
   "cell_type": "code",
   "execution_count": null,
   "metadata": {},
   "outputs": [],
   "source": [
    "Feature_Importances=pd.DataFrame({\"feature\":X_train.columns,\"importance\":rfc.feature_importances_})\n",
    "Feature_Importances.sort_values(\"importance\")"
   ]
  },
  {
   "cell_type": "code",
   "execution_count": null,
   "metadata": {},
   "outputs": [],
   "source": [
    "combined_csv.groupby(\"esrb_rating\")[\"no_descriptors\"].value_counts()\n",
    "#How many No Descriptors exist in each category"
   ]
  },
  {
   "cell_type": "code",
   "execution_count": null,
   "metadata": {},
   "outputs": [],
   "source": [
    "# Data\n",
    "r = [0,1,2,3]\n",
    "No_Descriptor = {'E': [201, 512, 830, 473], 'ET': [315, 17, 43, 4]}\n",
    "df = pd.DataFrame(No_Descriptor)\n",
    "\n",
    "#From raw value to percentage\n",
    "totals = [i+j for i,j in zip(df['E'], df['ET'])]\n",
    "greenBars = [i / j * 100 for i,j in zip(df['E'], totals)]\n",
    "orangeBars = [i / j * 100 for i,j in zip(df['ET'], totals)]\n",
    "# plot\n",
    "barWidth = 0.85\n",
    "names = ('E','E+','T','M')\n",
    "# Create green Bars\n",
    "plt.bar(r, greenBars, color='#b5ffb9', edgecolor='black', width=barWidth, label=\"No No Descriptors\")\n",
    "# Create orange Bars\n",
    "plt.bar(r, orangeBars,bottom=greenBars, color='#f9bc86', edgecolor='black', width=barWidth, label=\"Yes No Descriptors\")\n",
    "# Custom x axis\n",
    "plt.xticks(r, names)\n",
    "plt.xlabel(\"group\")\n",
    "plt.legend(loc='upper left', bbox_to_anchor=(1,1), ncol=1)\n",
    "# Show graphic\n",
    "plt.title(label='# of No Descriptors in each Rating')\n",
    "plt.show()"
   ]
  },
  {
   "cell_type": "markdown",
   "metadata": {},
   "source": [
    "- No Descriptors has a significant impact on the E ratings"
   ]
  },
  {
   "cell_type": "markdown",
   "metadata": {},
   "source": [
    "# CONCLUSIONS & RECCOMENDATIONS"
   ]
  },
  {
   "cell_type": "markdown",
   "metadata": {},
   "source": [
    "- Next steps\n",
    "    - Research what makes up 'No Descriptors' category to futher analyze its impact on E Rating\n",
    "    - Explore further correlations and groupings to improve models"
   ]
  }
 ],
 "metadata": {
  "kernelspec": {
   "display_name": "Python 3",
   "language": "python",
   "name": "python3"
  },
  "language_info": {
   "codemirror_mode": {
    "name": "ipython",
    "version": 3
   },
   "file_extension": ".py",
   "mimetype": "text/x-python",
   "name": "python",
   "nbconvert_exporter": "python",
   "pygments_lexer": "ipython3",
   "version": "3.8.3"
  },
  "toc": {
   "base_numbering": 1,
   "nav_menu": {},
   "number_sections": true,
   "sideBar": true,
   "skip_h1_title": false,
   "title_cell": "Table of Contents",
   "title_sidebar": "Contents",
   "toc_cell": false,
   "toc_position": {
    "height": "calc(100% - 180px)",
    "left": "10px",
    "top": "150px",
    "width": "298.188px"
   },
   "toc_section_display": true,
   "toc_window_display": true
  }
 },
 "nbformat": 4,
 "nbformat_minor": 2
}
